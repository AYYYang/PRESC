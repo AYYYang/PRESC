{
 "cells": [
  {
   "cell_type": "markdown",
   "metadata": {},
   "source": [
    "## Project Overview\n",
    "### Train and test a classification model(s) on the Default dataset.\n",
    "Before training a model on this dataset, a good understanding of each explanatory variable (features) is vital.\n",
    "### Definition of each feature\n",
    "\n",
    " - **limit_bal**: limit balance also known as credit limit is the **credit limit** after applying for a credit card determined by the credit card issuer.\n",
    " - **sex:** Sex of the credit card owner which is either 1 for **Male** or 2 for **Female**\n",
    " - **education:** Highest level of education for the credit card owner. where 1 = graduate school; 2 = university; 3 = high school; 4 = others\n",
    " - **marriage:** Marital status of credit card owner where 1 = married; 2 = single; 3 = others\n",
    " - **age:** Ages of card owners.\n",
    " - **pay_0 to pay_6:** History of past monthly pay records starting from April(pay_0) to September(pay_6) for each card owner.\n",
    "    statuses are 0: pay duly, 1: payment delay for one month, 2: payment delay for two months.\n",
    " - **bill_amtt1 to bill_amnt6** represents amount of bill statement from April(bill_amt1) to September(bill_amt6). \n",
    "    **Bill statement** is a periodic statement that lists all the payments, purchases and other debits and credits during the billing cycle.\n",
    " - **pay_amt1 to pay_amt6** is amount paid in the previous month. From April(pay_amt1) to September(pay_amt6)\n",
    " - **defaulted:** To defauult means failure to pay a debt on the agreed upon date. IN this case, creditors mostly raise interest rates or decrese the credit limit.\n",
    "        \n",
    "Since defaulted is the target variable in this case, suitable models will be used to train and test the other explanatory variables and see which model predicts with highest accuracy on the dataset.\n"
   ]
  },
  {
   "cell_type": "code",
   "execution_count": 1,
   "metadata": {},
   "outputs": [],
   "source": [
    "#importing packages needed\n",
    "import numpy as np\n",
    "import pandas as pd\n",
    "import seaborn as sns\n",
    "import matplotlib.pyplot as plt  \n",
    "plt.rcParams[\"figure.figsize\"] = (8,6)"
   ]
  },
  {
   "cell_type": "code",
   "execution_count": 2,
   "metadata": {
    "scrolled": true
   },
   "outputs": [
    {
     "data": {
      "text/html": [
       "<div>\n",
       "<style scoped>\n",
       "    .dataframe tbody tr th:only-of-type {\n",
       "        vertical-align: middle;\n",
       "    }\n",
       "\n",
       "    .dataframe tbody tr th {\n",
       "        vertical-align: top;\n",
       "    }\n",
       "\n",
       "    .dataframe thead th {\n",
       "        text-align: right;\n",
       "    }\n",
       "</style>\n",
       "<table border=\"1\" class=\"dataframe\">\n",
       "  <thead>\n",
       "    <tr style=\"text-align: right;\">\n",
       "      <th></th>\n",
       "      <th>id</th>\n",
       "      <th>limit_bal</th>\n",
       "      <th>sex</th>\n",
       "      <th>education</th>\n",
       "      <th>marriage</th>\n",
       "      <th>age</th>\n",
       "      <th>pay_0</th>\n",
       "      <th>pay_2</th>\n",
       "      <th>pay_3</th>\n",
       "      <th>pay_4</th>\n",
       "      <th>...</th>\n",
       "      <th>bill_amt4</th>\n",
       "      <th>bill_amt5</th>\n",
       "      <th>bill_amt6</th>\n",
       "      <th>pay_amt1</th>\n",
       "      <th>pay_amt2</th>\n",
       "      <th>pay_amt3</th>\n",
       "      <th>pay_amt4</th>\n",
       "      <th>pay_amt5</th>\n",
       "      <th>pay_amt6</th>\n",
       "      <th>defaulted</th>\n",
       "    </tr>\n",
       "  </thead>\n",
       "  <tbody>\n",
       "    <tr>\n",
       "      <th>0</th>\n",
       "      <td>1</td>\n",
       "      <td>20000</td>\n",
       "      <td>2</td>\n",
       "      <td>2</td>\n",
       "      <td>1</td>\n",
       "      <td>24</td>\n",
       "      <td>2</td>\n",
       "      <td>2</td>\n",
       "      <td>-1</td>\n",
       "      <td>-1</td>\n",
       "      <td>...</td>\n",
       "      <td>0</td>\n",
       "      <td>0</td>\n",
       "      <td>0</td>\n",
       "      <td>0</td>\n",
       "      <td>689</td>\n",
       "      <td>0</td>\n",
       "      <td>0</td>\n",
       "      <td>0</td>\n",
       "      <td>0</td>\n",
       "      <td>1</td>\n",
       "    </tr>\n",
       "    <tr>\n",
       "      <th>1</th>\n",
       "      <td>2</td>\n",
       "      <td>120000</td>\n",
       "      <td>2</td>\n",
       "      <td>2</td>\n",
       "      <td>2</td>\n",
       "      <td>26</td>\n",
       "      <td>-1</td>\n",
       "      <td>2</td>\n",
       "      <td>0</td>\n",
       "      <td>0</td>\n",
       "      <td>...</td>\n",
       "      <td>3272</td>\n",
       "      <td>3455</td>\n",
       "      <td>3261</td>\n",
       "      <td>0</td>\n",
       "      <td>1000</td>\n",
       "      <td>1000</td>\n",
       "      <td>1000</td>\n",
       "      <td>0</td>\n",
       "      <td>2000</td>\n",
       "      <td>1</td>\n",
       "    </tr>\n",
       "    <tr>\n",
       "      <th>2</th>\n",
       "      <td>3</td>\n",
       "      <td>90000</td>\n",
       "      <td>2</td>\n",
       "      <td>2</td>\n",
       "      <td>2</td>\n",
       "      <td>34</td>\n",
       "      <td>0</td>\n",
       "      <td>0</td>\n",
       "      <td>0</td>\n",
       "      <td>0</td>\n",
       "      <td>...</td>\n",
       "      <td>14331</td>\n",
       "      <td>14948</td>\n",
       "      <td>15549</td>\n",
       "      <td>1518</td>\n",
       "      <td>1500</td>\n",
       "      <td>1000</td>\n",
       "      <td>1000</td>\n",
       "      <td>1000</td>\n",
       "      <td>5000</td>\n",
       "      <td>0</td>\n",
       "    </tr>\n",
       "    <tr>\n",
       "      <th>3</th>\n",
       "      <td>4</td>\n",
       "      <td>50000</td>\n",
       "      <td>2</td>\n",
       "      <td>2</td>\n",
       "      <td>1</td>\n",
       "      <td>37</td>\n",
       "      <td>0</td>\n",
       "      <td>0</td>\n",
       "      <td>0</td>\n",
       "      <td>0</td>\n",
       "      <td>...</td>\n",
       "      <td>28314</td>\n",
       "      <td>28959</td>\n",
       "      <td>29547</td>\n",
       "      <td>2000</td>\n",
       "      <td>2019</td>\n",
       "      <td>1200</td>\n",
       "      <td>1100</td>\n",
       "      <td>1069</td>\n",
       "      <td>1000</td>\n",
       "      <td>0</td>\n",
       "    </tr>\n",
       "    <tr>\n",
       "      <th>4</th>\n",
       "      <td>5</td>\n",
       "      <td>50000</td>\n",
       "      <td>1</td>\n",
       "      <td>2</td>\n",
       "      <td>1</td>\n",
       "      <td>57</td>\n",
       "      <td>-1</td>\n",
       "      <td>0</td>\n",
       "      <td>-1</td>\n",
       "      <td>0</td>\n",
       "      <td>...</td>\n",
       "      <td>20940</td>\n",
       "      <td>19146</td>\n",
       "      <td>19131</td>\n",
       "      <td>2000</td>\n",
       "      <td>36681</td>\n",
       "      <td>10000</td>\n",
       "      <td>9000</td>\n",
       "      <td>689</td>\n",
       "      <td>679</td>\n",
       "      <td>0</td>\n",
       "    </tr>\n",
       "  </tbody>\n",
       "</table>\n",
       "<p>5 rows × 25 columns</p>\n",
       "</div>"
      ],
      "text/plain": [
       "   id  limit_bal  sex  education  marriage  age  pay_0  pay_2  pay_3  pay_4  \\\n",
       "0   1      20000    2          2         1   24      2      2     -1     -1   \n",
       "1   2     120000    2          2         2   26     -1      2      0      0   \n",
       "2   3      90000    2          2         2   34      0      0      0      0   \n",
       "3   4      50000    2          2         1   37      0      0      0      0   \n",
       "4   5      50000    1          2         1   57     -1      0     -1      0   \n",
       "\n",
       "     ...      bill_amt4  bill_amt5  bill_amt6  pay_amt1  pay_amt2  pay_amt3  \\\n",
       "0    ...              0          0          0         0       689         0   \n",
       "1    ...           3272       3455       3261         0      1000      1000   \n",
       "2    ...          14331      14948      15549      1518      1500      1000   \n",
       "3    ...          28314      28959      29547      2000      2019      1200   \n",
       "4    ...          20940      19146      19131      2000     36681     10000   \n",
       "\n",
       "   pay_amt4  pay_amt5  pay_amt6  defaulted  \n",
       "0         0         0         0          1  \n",
       "1      1000         0      2000          1  \n",
       "2      1000      1000      5000          0  \n",
       "3      1100      1069      1000          0  \n",
       "4      9000       689       679          0  \n",
       "\n",
       "[5 rows x 25 columns]"
      ]
     },
     "execution_count": 2,
     "metadata": {},
     "output_type": "execute_result"
    }
   ],
   "source": [
    "data = pd.read_csv('..\\..\\datasets\\defaults.csv')\n",
    "data.head()"
   ]
  },
  {
   "cell_type": "markdown",
   "metadata": {},
   "source": [
    "### Performing Data cleaning and preprocessing.\n",
    "At this point, cleaning is done by ensuring there are no missing values or \n",
    "wrong input values by following the dataset description and the data given. "
   ]
  },
  {
   "cell_type": "code",
   "execution_count": 3,
   "metadata": {},
   "outputs": [
    {
     "data": {
      "text/html": [
       "<div>\n",
       "<style scoped>\n",
       "    .dataframe tbody tr th:only-of-type {\n",
       "        vertical-align: middle;\n",
       "    }\n",
       "\n",
       "    .dataframe tbody tr th {\n",
       "        vertical-align: top;\n",
       "    }\n",
       "\n",
       "    .dataframe thead th {\n",
       "        text-align: right;\n",
       "    }\n",
       "</style>\n",
       "<table border=\"1\" class=\"dataframe\">\n",
       "  <thead>\n",
       "    <tr style=\"text-align: right;\">\n",
       "      <th></th>\n",
       "      <th>id</th>\n",
       "      <th>limit_bal</th>\n",
       "      <th>sex</th>\n",
       "      <th>education</th>\n",
       "      <th>marriage</th>\n",
       "      <th>age</th>\n",
       "      <th>pay_0</th>\n",
       "      <th>pay_2</th>\n",
       "      <th>pay_3</th>\n",
       "      <th>pay_4</th>\n",
       "      <th>...</th>\n",
       "      <th>bill_amt4</th>\n",
       "      <th>bill_amt5</th>\n",
       "      <th>bill_amt6</th>\n",
       "      <th>pay_amt1</th>\n",
       "      <th>pay_amt2</th>\n",
       "      <th>pay_amt3</th>\n",
       "      <th>pay_amt4</th>\n",
       "      <th>pay_amt5</th>\n",
       "      <th>pay_amt6</th>\n",
       "      <th>defaulted</th>\n",
       "    </tr>\n",
       "  </thead>\n",
       "  <tbody>\n",
       "    <tr>\n",
       "      <th>count</th>\n",
       "      <td>30000.000000</td>\n",
       "      <td>30000.000000</td>\n",
       "      <td>30000.000000</td>\n",
       "      <td>30000.000000</td>\n",
       "      <td>30000.000000</td>\n",
       "      <td>30000.000000</td>\n",
       "      <td>30000.000000</td>\n",
       "      <td>30000.000000</td>\n",
       "      <td>30000.000000</td>\n",
       "      <td>30000.000000</td>\n",
       "      <td>...</td>\n",
       "      <td>30000.000000</td>\n",
       "      <td>30000.000000</td>\n",
       "      <td>30000.000000</td>\n",
       "      <td>30000.000000</td>\n",
       "      <td>3.000000e+04</td>\n",
       "      <td>30000.00000</td>\n",
       "      <td>30000.000000</td>\n",
       "      <td>30000.000000</td>\n",
       "      <td>30000.000000</td>\n",
       "      <td>30000.000000</td>\n",
       "    </tr>\n",
       "    <tr>\n",
       "      <th>mean</th>\n",
       "      <td>15000.500000</td>\n",
       "      <td>167484.322667</td>\n",
       "      <td>1.603733</td>\n",
       "      <td>1.853133</td>\n",
       "      <td>1.551867</td>\n",
       "      <td>35.485500</td>\n",
       "      <td>-0.016700</td>\n",
       "      <td>-0.133767</td>\n",
       "      <td>-0.166200</td>\n",
       "      <td>-0.220667</td>\n",
       "      <td>...</td>\n",
       "      <td>43262.948967</td>\n",
       "      <td>40311.400967</td>\n",
       "      <td>38871.760400</td>\n",
       "      <td>5663.580500</td>\n",
       "      <td>5.921163e+03</td>\n",
       "      <td>5225.68150</td>\n",
       "      <td>4826.076867</td>\n",
       "      <td>4799.387633</td>\n",
       "      <td>5215.502567</td>\n",
       "      <td>0.221200</td>\n",
       "    </tr>\n",
       "    <tr>\n",
       "      <th>std</th>\n",
       "      <td>8660.398374</td>\n",
       "      <td>129747.661567</td>\n",
       "      <td>0.489129</td>\n",
       "      <td>0.790349</td>\n",
       "      <td>0.521970</td>\n",
       "      <td>9.217904</td>\n",
       "      <td>1.123802</td>\n",
       "      <td>1.197186</td>\n",
       "      <td>1.196868</td>\n",
       "      <td>1.169139</td>\n",
       "      <td>...</td>\n",
       "      <td>64332.856134</td>\n",
       "      <td>60797.155770</td>\n",
       "      <td>59554.107537</td>\n",
       "      <td>16563.280354</td>\n",
       "      <td>2.304087e+04</td>\n",
       "      <td>17606.96147</td>\n",
       "      <td>15666.159744</td>\n",
       "      <td>15278.305679</td>\n",
       "      <td>17777.465775</td>\n",
       "      <td>0.415062</td>\n",
       "    </tr>\n",
       "    <tr>\n",
       "      <th>min</th>\n",
       "      <td>1.000000</td>\n",
       "      <td>10000.000000</td>\n",
       "      <td>1.000000</td>\n",
       "      <td>0.000000</td>\n",
       "      <td>0.000000</td>\n",
       "      <td>21.000000</td>\n",
       "      <td>-2.000000</td>\n",
       "      <td>-2.000000</td>\n",
       "      <td>-2.000000</td>\n",
       "      <td>-2.000000</td>\n",
       "      <td>...</td>\n",
       "      <td>-170000.000000</td>\n",
       "      <td>-81334.000000</td>\n",
       "      <td>-339603.000000</td>\n",
       "      <td>0.000000</td>\n",
       "      <td>0.000000e+00</td>\n",
       "      <td>0.00000</td>\n",
       "      <td>0.000000</td>\n",
       "      <td>0.000000</td>\n",
       "      <td>0.000000</td>\n",
       "      <td>0.000000</td>\n",
       "    </tr>\n",
       "    <tr>\n",
       "      <th>25%</th>\n",
       "      <td>7500.750000</td>\n",
       "      <td>50000.000000</td>\n",
       "      <td>1.000000</td>\n",
       "      <td>1.000000</td>\n",
       "      <td>1.000000</td>\n",
       "      <td>28.000000</td>\n",
       "      <td>-1.000000</td>\n",
       "      <td>-1.000000</td>\n",
       "      <td>-1.000000</td>\n",
       "      <td>-1.000000</td>\n",
       "      <td>...</td>\n",
       "      <td>2326.750000</td>\n",
       "      <td>1763.000000</td>\n",
       "      <td>1256.000000</td>\n",
       "      <td>1000.000000</td>\n",
       "      <td>8.330000e+02</td>\n",
       "      <td>390.00000</td>\n",
       "      <td>296.000000</td>\n",
       "      <td>252.500000</td>\n",
       "      <td>117.750000</td>\n",
       "      <td>0.000000</td>\n",
       "    </tr>\n",
       "    <tr>\n",
       "      <th>50%</th>\n",
       "      <td>15000.500000</td>\n",
       "      <td>140000.000000</td>\n",
       "      <td>2.000000</td>\n",
       "      <td>2.000000</td>\n",
       "      <td>2.000000</td>\n",
       "      <td>34.000000</td>\n",
       "      <td>0.000000</td>\n",
       "      <td>0.000000</td>\n",
       "      <td>0.000000</td>\n",
       "      <td>0.000000</td>\n",
       "      <td>...</td>\n",
       "      <td>19052.000000</td>\n",
       "      <td>18104.500000</td>\n",
       "      <td>17071.000000</td>\n",
       "      <td>2100.000000</td>\n",
       "      <td>2.009000e+03</td>\n",
       "      <td>1800.00000</td>\n",
       "      <td>1500.000000</td>\n",
       "      <td>1500.000000</td>\n",
       "      <td>1500.000000</td>\n",
       "      <td>0.000000</td>\n",
       "    </tr>\n",
       "    <tr>\n",
       "      <th>75%</th>\n",
       "      <td>22500.250000</td>\n",
       "      <td>240000.000000</td>\n",
       "      <td>2.000000</td>\n",
       "      <td>2.000000</td>\n",
       "      <td>2.000000</td>\n",
       "      <td>41.000000</td>\n",
       "      <td>0.000000</td>\n",
       "      <td>0.000000</td>\n",
       "      <td>0.000000</td>\n",
       "      <td>0.000000</td>\n",
       "      <td>...</td>\n",
       "      <td>54506.000000</td>\n",
       "      <td>50190.500000</td>\n",
       "      <td>49198.250000</td>\n",
       "      <td>5006.000000</td>\n",
       "      <td>5.000000e+03</td>\n",
       "      <td>4505.00000</td>\n",
       "      <td>4013.250000</td>\n",
       "      <td>4031.500000</td>\n",
       "      <td>4000.000000</td>\n",
       "      <td>0.000000</td>\n",
       "    </tr>\n",
       "    <tr>\n",
       "      <th>max</th>\n",
       "      <td>30000.000000</td>\n",
       "      <td>1000000.000000</td>\n",
       "      <td>2.000000</td>\n",
       "      <td>6.000000</td>\n",
       "      <td>3.000000</td>\n",
       "      <td>79.000000</td>\n",
       "      <td>8.000000</td>\n",
       "      <td>8.000000</td>\n",
       "      <td>8.000000</td>\n",
       "      <td>8.000000</td>\n",
       "      <td>...</td>\n",
       "      <td>891586.000000</td>\n",
       "      <td>927171.000000</td>\n",
       "      <td>961664.000000</td>\n",
       "      <td>873552.000000</td>\n",
       "      <td>1.684259e+06</td>\n",
       "      <td>896040.00000</td>\n",
       "      <td>621000.000000</td>\n",
       "      <td>426529.000000</td>\n",
       "      <td>528666.000000</td>\n",
       "      <td>1.000000</td>\n",
       "    </tr>\n",
       "  </tbody>\n",
       "</table>\n",
       "<p>8 rows × 25 columns</p>\n",
       "</div>"
      ],
      "text/plain": [
       "                 id       limit_bal           sex     education      marriage  \\\n",
       "count  30000.000000    30000.000000  30000.000000  30000.000000  30000.000000   \n",
       "mean   15000.500000   167484.322667      1.603733      1.853133      1.551867   \n",
       "std     8660.398374   129747.661567      0.489129      0.790349      0.521970   \n",
       "min        1.000000    10000.000000      1.000000      0.000000      0.000000   \n",
       "25%     7500.750000    50000.000000      1.000000      1.000000      1.000000   \n",
       "50%    15000.500000   140000.000000      2.000000      2.000000      2.000000   \n",
       "75%    22500.250000   240000.000000      2.000000      2.000000      2.000000   \n",
       "max    30000.000000  1000000.000000      2.000000      6.000000      3.000000   \n",
       "\n",
       "                age         pay_0         pay_2         pay_3         pay_4  \\\n",
       "count  30000.000000  30000.000000  30000.000000  30000.000000  30000.000000   \n",
       "mean      35.485500     -0.016700     -0.133767     -0.166200     -0.220667   \n",
       "std        9.217904      1.123802      1.197186      1.196868      1.169139   \n",
       "min       21.000000     -2.000000     -2.000000     -2.000000     -2.000000   \n",
       "25%       28.000000     -1.000000     -1.000000     -1.000000     -1.000000   \n",
       "50%       34.000000      0.000000      0.000000      0.000000      0.000000   \n",
       "75%       41.000000      0.000000      0.000000      0.000000      0.000000   \n",
       "max       79.000000      8.000000      8.000000      8.000000      8.000000   \n",
       "\n",
       "           ...           bill_amt4      bill_amt5      bill_amt6  \\\n",
       "count      ...        30000.000000   30000.000000   30000.000000   \n",
       "mean       ...        43262.948967   40311.400967   38871.760400   \n",
       "std        ...        64332.856134   60797.155770   59554.107537   \n",
       "min        ...      -170000.000000  -81334.000000 -339603.000000   \n",
       "25%        ...         2326.750000    1763.000000    1256.000000   \n",
       "50%        ...        19052.000000   18104.500000   17071.000000   \n",
       "75%        ...        54506.000000   50190.500000   49198.250000   \n",
       "max        ...       891586.000000  927171.000000  961664.000000   \n",
       "\n",
       "            pay_amt1      pay_amt2      pay_amt3       pay_amt4  \\\n",
       "count   30000.000000  3.000000e+04   30000.00000   30000.000000   \n",
       "mean     5663.580500  5.921163e+03    5225.68150    4826.076867   \n",
       "std     16563.280354  2.304087e+04   17606.96147   15666.159744   \n",
       "min         0.000000  0.000000e+00       0.00000       0.000000   \n",
       "25%      1000.000000  8.330000e+02     390.00000     296.000000   \n",
       "50%      2100.000000  2.009000e+03    1800.00000    1500.000000   \n",
       "75%      5006.000000  5.000000e+03    4505.00000    4013.250000   \n",
       "max    873552.000000  1.684259e+06  896040.00000  621000.000000   \n",
       "\n",
       "            pay_amt5       pay_amt6     defaulted  \n",
       "count   30000.000000   30000.000000  30000.000000  \n",
       "mean     4799.387633    5215.502567      0.221200  \n",
       "std     15278.305679   17777.465775      0.415062  \n",
       "min         0.000000       0.000000      0.000000  \n",
       "25%       252.500000     117.750000      0.000000  \n",
       "50%      1500.000000    1500.000000      0.000000  \n",
       "75%      4031.500000    4000.000000      0.000000  \n",
       "max    426529.000000  528666.000000      1.000000  \n",
       "\n",
       "[8 rows x 25 columns]"
      ]
     },
     "execution_count": 3,
     "metadata": {},
     "output_type": "execute_result"
    }
   ],
   "source": [
    "data.describe()"
   ]
  },
  {
   "cell_type": "markdown",
   "metadata": {},
   "source": [
    " - The inbuilt function describes gives more details for all numerical features and since all the features here are numerical, the description is given for all of them.\n",
    " - prints out the counts of all the records for each feature, mean, standard deviation, min, max and percentile values. This helps better understand the nature of the explanatory variable."
   ]
  },
  {
   "cell_type": "code",
   "execution_count": 4,
   "metadata": {},
   "outputs": [
    {
     "name": "stdout",
     "output_type": "stream",
     "text": [
      "<class 'pandas.core.frame.DataFrame'>\n",
      "RangeIndex: 30000 entries, 0 to 29999\n",
      "Data columns (total 25 columns):\n",
      "id           30000 non-null int64\n",
      "limit_bal    30000 non-null int64\n",
      "sex          30000 non-null int64\n",
      "education    30000 non-null int64\n",
      "marriage     30000 non-null int64\n",
      "age          30000 non-null int64\n",
      "pay_0        30000 non-null int64\n",
      "pay_2        30000 non-null int64\n",
      "pay_3        30000 non-null int64\n",
      "pay_4        30000 non-null int64\n",
      "pay_5        30000 non-null int64\n",
      "pay_6        30000 non-null int64\n",
      "bill_amt1    30000 non-null int64\n",
      "bill_amt2    30000 non-null int64\n",
      "bill_amt3    30000 non-null int64\n",
      "bill_amt4    30000 non-null int64\n",
      "bill_amt5    30000 non-null int64\n",
      "bill_amt6    30000 non-null int64\n",
      "pay_amt1     30000 non-null int64\n",
      "pay_amt2     30000 non-null int64\n",
      "pay_amt3     30000 non-null int64\n",
      "pay_amt4     30000 non-null int64\n",
      "pay_amt5     30000 non-null int64\n",
      "pay_amt6     30000 non-null int64\n",
      "defaulted    30000 non-null int64\n",
      "dtypes: int64(25)\n",
      "memory usage: 5.7 MB\n"
     ]
    }
   ],
   "source": [
    "data.info()"
   ]
  },
  {
   "cell_type": "markdown",
   "metadata": {},
   "source": [
    "Information printed for the dataframe prints out data types of all the features and also missing values could be determined from here since the total number of records is printed out for each feature."
   ]
  },
  {
   "cell_type": "code",
   "execution_count": 5,
   "metadata": {},
   "outputs": [
    {
     "data": {
      "text/plain": [
       "False"
      ]
     },
     "execution_count": 5,
     "metadata": {},
     "output_type": "execute_result"
    }
   ],
   "source": [
    "# check for null values\n",
    "data.isnull().any().any()"
   ]
  },
  {
   "cell_type": "markdown",
   "metadata": {},
   "source": [
    "The inbuilt function isnull() prints out any null(undefined or empty space) values and which feature the record belongs. \n",
    "In this case there is no null value which therefore helps proceed to the next level."
   ]
  },
  {
   "cell_type": "code",
   "execution_count": 6,
   "metadata": {},
   "outputs": [
    {
     "data": {
      "image/png": "[encoded data removed]",
      "text/plain": [
       "<Figure size 432x288 with 1 Axes>"
      ]
     },
     "metadata": {
      "needs_background": "light"
     },
     "output_type": "display_data"
    }
   ],
   "source": [
    "# Frequency count for the 0 and 1 classes of the target.\n",
    "sns.countplot('defaulted',data=data)\n",
    "plt.title('classification of the target')\n",
    "plt.show()"
   ]
  },
  {
   "cell_type": "markdown",
   "metadata": {},
   "source": [
    "### Performing Exploratory Analysis on some of the features\n",
    "Exploratory data analysis is the process of bringing out relatonships between dependent features and the target feature, gives more details about the structure of a particular feature and also explanatory variable against explanatory variables.\n",
    "Some of these visualizations help bring out more stories from the data and also much more understanding by the different features.  \n",
    "EDA will be performed on pay_0(History of past monthly pay records starting from April), bill_amt1(amount of bill statement from April) and pay_amt1(amount paid in the previous month. From April) to see how these features can infleunce the target and their relationship with other features."
   ]
  },
  {
   "cell_type": "code",
   "execution_count": 7,
   "metadata": {},
   "outputs": [
    {
     "data": {
      "image/png": "[encoded data removed]",
      "text/plain": [
       "<Figure size 576x432 with 4 Axes>"
      ]
     },
     "metadata": {
      "needs_background": "light"
     },
     "output_type": "display_data"
    }
   ],
   "source": [
    "# Subplots showing visualizations of pay_0(past monthly pay records for April )\n",
    "# bar chart of pay_0 vs counts for each status\n",
    "plt.rcParams[\"figure.figsize\"] = (8,6)\n",
    "plt.subplot(221)\n",
    "data['pay_0'].value_counts().plot('bar')\n",
    "plt.xlabel('pay_0')\n",
    "\n",
    "# Graph of pay_0 vs limit_bal\n",
    "plt.subplot(222)\n",
    "plt.scatter(data.pay_0, data.limit_bal)\n",
    "plt.xlabel('pay_0 against limit balance')\n",
    "\n",
    "# Graph of education vs pay_0 \n",
    "plt.subplot(223)\n",
    "plt.scatter(data.education, data.pay_0)\n",
    "plt.xlabel('Education vs pay_0')\n",
    "\n",
    "# Graph of married vs pay_0\n",
    "plt.subplot(224)\n",
    "plt.scatter(data.marriage, data.pay_0)\n",
    "plt.xlabel('Marital status vs pay_0')\n",
    "\n",
    "plt.tight_layout()"
   ]
  },
  {
   "cell_type": "markdown",
   "metadata": {},
   "source": [
    "### Observatins from above visualizations for pay amount and other features\n",
    " - The fisrt graph shows the frequency of each status for this feature. The highest being 0 which is card owners pay before due time followed by those who pay a month before the due date (-1). This means there are lower chances for a credit card to be defaulted as most of the card owners always pay their debts before or at least a month later.\n",
    " - Graph of pay_0 vs limit_balance. This graph shows most of the card owners fall under the -2 to 2 status of loan payment with account balance ranging from 600,000 to 800,000 UD dollars. There is an outlier of a cingle credit card owner with a limit balance of 100,000 US dollars and falls under the 0 status which is he pays his loans on the agreed upon date(due time). Also, card owners with payment status ranging from 4 to 8 are seen to have smaller limit balance offered by the creditor. This could therefore be a good strategy used to reduce more accounts from being defaulted which is by reducing loan offers to credit card owners with smaller limit balance.\n",
    " - Graph for education vs pay_0. This graph shows the which category of degree holders turn to pay before or after the due date. In this case, graduate school(1),university(2) and high school(3) turn to pay after the due date mostly 8 months after the agreed upon date. Whereas other categories turn to pay earlier and or few months after the agreed upon time.\n",
    " - Graph for married vs pay_0. From this graph, category 1 and 2 turn to pay months after the agreed upon time. These two categories 1 and 2 will have higher chances for their credit cards to be defaulted unlike the other categories. \n",
    " "
   ]
  },
  {
   "cell_type": "code",
   "execution_count": 8,
   "metadata": {},
   "outputs": [
    {
     "data": {
      "image/png": "[encoded data removed]",
      "text/plain": [
       "<Figure size 576x432 with 3 Axes>"
      ]
     },
     "metadata": {
      "needs_background": "light"
     },
     "output_type": "display_data"
    }
   ],
   "source": [
    "# subplots showing graphs of pay_amt1(bill statements for the April) vs other features.\n",
    "# scatter plot of pay_amt1 vs limit balance\n",
    "plt.rcParams[\"figure.figsize\"] = (8,6)\n",
    "plt.subplot(221)\n",
    "plt.scatter(data.pay_amt1, data.limit_bal)\n",
    "plt.xlabel('pay_amt1 against limit balance')\n",
    "\n",
    "# graph of education vs pay_amt\n",
    "plt.subplot(222)\n",
    "plt.scatter(data.education, data.pay_amt1)\n",
    "plt.xlabel('Education vs pay_amt1')\n",
    "\n",
    "# graph of marriage vs pay_amt1\n",
    "plt.subplot(223)\n",
    "plt.scatter(data.marriage, data.pay_amt1)\n",
    "plt.xlabel('Marital status vs pay_amt1')\n",
    "\n",
    "plt.tight_layout()"
   ]
  },
  {
   "cell_type": "markdown",
   "metadata": {},
   "source": [
    "### Observations from the visualizations between pay amount and other features.\n",
    "- The graph for pay_amt1 vs limit_bal shows the amount paid in the previews month by the credit card owner. In this case, owners with lower limit balnace turn to pay smaller amounts except for an exceptional case where the limit balance is 34ok and the 873k US dollars. \n",
    " - The graph for education vs pay_amt1 shows category 1 and 2 had higher previous payments made. These categories are not likely to have their credit cards being defaulted since they mostly meetup to the agreed upon deadline.\n",
    " - The graph marriage against pay_amt1 shows which category of card paid their loans in the previous month. Category 1 and 2 are therefore the highest categories who made a payment in the previous months where as category 0 and 3 turned to make little or no payments in the previous month with an exception under category 3 making payments of 100,000 US dollars in the previous month."
   ]
  },
  {
   "cell_type": "code",
   "execution_count": 9,
   "metadata": {},
   "outputs": [
    {
     "data": {
      "image/png": "[encoded data removed]",
      "text/plain": [
       "<Figure size 576x432 with 3 Axes>"
      ]
     },
     "metadata": {
      "needs_background": "light"
     },
     "output_type": "display_data"
    }
   ],
   "source": [
    "# subplots showing graphs between amount of bill statements for April and other features\n",
    "plt.rcParams[\"figure.figsize\"] = (8,6)\n",
    "plt.subplot(221)\n",
    "plt.scatter(data.bill_amt1, data.limit_bal)\n",
    "plt.xlabel('bill_amount against limit balance')\n",
    "\n",
    "plt.subplot(222)\n",
    "plt.scatter(data.education, data.bill_amt1)\n",
    "plt.xlabel('Education vs bill_amount')\n",
    "\n",
    "plt.subplot(223)\n",
    "plt.scatter(data.marriage, data.bill_amt1)\n",
    "plt.xlabel('Marital status vs bill_amount')\n",
    "\n",
    "plt.tight_layout()"
   ]
  },
  {
   "cell_type": "markdown",
   "metadata": {},
   "source": [
    "### Observations from Bill amount(Bill statement) and other features\n",
    " - Graph between bill amount and limit balance gives a visualization showing how the bill statements of credit card owners relates to the limit balance. Most of the card owners have low limit balance and also lower amounts of bill statments seen with some outliers with negative values for bill statements. Since bill statements is the periodic statement that lists all the payments, purchases and other debits and credits during the billing cycle. Negative amounts shows the bank owes you money which could be a refund. The other outlier is the highest limit balance crad owner with also high bill statement. Since he has high limit balance, he can therefore clear it off.\n",
    " - Graph for education vs bill amount shows all the categories almost have the same range of money as the bill statement but with some few outliers where their bill statements are negative which means the bank owes them some money while one is very high at the top under category 1.\n",
    " - Graph for marital status vs bill amount brings out the category that has high bill statements which are category 1 and 2 with an outlier at 100k. This therefore shows that category 1 and 2 have more bill statements than the others 0 and 3."
   ]
  },
  {
   "cell_type": "code",
   "execution_count": 10,
   "metadata": {},
   "outputs": [
    {
     "data": {
      "image/png": "[encoded data removed]",
      "text/plain": [
       "<Figure size 576x432 with 1 Axes>"
      ]
     },
     "metadata": {
      "needs_background": "light"
     },
     "output_type": "display_data"
    }
   ],
   "source": [
    "# Box plot to see relationship between limit balance and defaulted accounts.\n",
    "_ = sns.boxplot(x='defaulted', y='limit_bal', data=data)\n",
    "plt.show()"
   ]
  },
  {
   "cell_type": "markdown",
   "metadata": {},
   "source": [
    "### Box plot between Limit balance and defaulted credit cards\n",
    " - From above graph, there are two categories under the defaulted feature which are 0(not defaulted) and 1(defaulted) credit cards. \n",
    " - This box plot shows that most credit card owners with limit balance from 100k to 200k are most likely to be defaulted though with some exceptions with very highlimit balance still being defaulted.\n",
    " - For non defaulted credit card owners, their mean and standard deviation are ewual since the plot is symmetrical.This plot also shows that limit balance values from 100k to 300k can also have a non defaulted account. "
   ]
  },
  {
   "cell_type": "markdown",
   "metadata": {},
   "source": [
    "### Training and Testing the data\n",
    "Machine Learning models to be tested and why!\n",
    " - Logistic Regression: This is one of the good fits in this case as the target feature is discrete ie 0s and 1s. \n",
    " - K-Nearest Neighbors: KNN is a non parametric method used for predictions and the output(class) is classified by a plurality vote of its neighbors. \n",
    " - Decision tree: Uses a decision tree as a predictive model which uses a particular item features(or observations) represented as branches to make conclussions(predictions) about the target variable represented in the leaves."
   ]
  },
  {
   "cell_type": "markdown",
   "metadata": {},
   "source": [
    "## Logistic Regression with and without regularization"
   ]
  },
  {
   "cell_type": "code",
   "execution_count": 11,
   "metadata": {},
   "outputs": [
    {
     "name": "stdout",
     "output_type": "stream",
     "text": [
      "X:  <class 'numpy.ndarray'> (30000, 23)\n",
      "y:  <class 'numpy.ndarray'> (30000,)\n",
      "Accuracy of the logistic regression model on the training and test set is\n",
      "[Train] Accuracy score is:  0.7783\n",
      "[Test] Accuracy score is:  0.7803\n"
     ]
    }
   ],
   "source": [
    "# Logistic regression is a scikit learn model so it must be imported from sklearn, train_test_split and also accuracy score are all imported from sklearn\n",
    "from sklearn.model_selection import train_test_split\n",
    "from sklearn.linear_model import LogisticRegression\n",
    "from sklearn.metrics import accuracy_score\n",
    "\n",
    "X = data.iloc[:, 1:24].values\n",
    "print('X: ', type(X), X.shape)\n",
    "y = data.iloc[:, 24].values\n",
    "print('y: ', type(y), y.shape)\n",
    "\n",
    "# Splitting the data into train and test set in the ratio 80:20\n",
    "Xtrain, Xtest, ytrain, ytest = train_test_split(X, y, test_size=0.2, random_state=10)\n",
    "print(\"Accuracy of the logistic regression model on the training and test set is\" )\n",
    "\n",
    "clf_lr = LogisticRegression(solver='liblinear')\n",
    "\n",
    "clf_lr.fit(Xtrain, ytrain)\n",
    "\n",
    "y_pred_train = clf_lr.predict(Xtrain)\n",
    "print('[Train] Accuracy score is: ', round(accuracy_score(ytrain, y_pred_train), 4))\n",
    "      \n",
    "y_pred_test = clf_lr.predict(Xtest)\n",
    "print('[Test] Accuracy score is: ', round(accuracy_score(y_pred_test, ytest), 4))"
   ]
  },
  {
   "cell_type": "markdown",
   "metadata": {},
   "source": [
    "### Findings from above model.\n",
    " - After splitting the data into test and train, logistic regression model was used which gave an accuracy score of 0.7783 on th train set and an accuracy score of 0.7803 for the test set.\n",
    " - This score is the best for a machine learning predictions. This therefore is the reason why when making predictions, two or more models are always tested to see which produces best accuracy results without overfitting the model."
   ]
  },
  {
   "cell_type": "markdown",
   "metadata": {},
   "source": [
    "#### With Regularization\n",
    "This is called parameter tuning where the model parameters are changed from the default values so as to better optimize the model."
   ]
  },
  {
   "cell_type": "code",
   "execution_count": 12,
   "metadata": {},
   "outputs": [
    {
     "name": "stdout",
     "output_type": "stream",
     "text": [
      "[Train] Accuracy score is:  0.81\n",
      "[Test] Accuracy score is:  0.8128\n"
     ]
    }
   ],
   "source": [
    "# logistic regression classifier with regularization set to l1.\n",
    "clf_lr2 = LogisticRegression(penalty='l1', solver='liblinear')\n",
    "\n",
    "clf_lr2.fit(Xtrain, ytrain)\n",
    "\n",
    "y_pred_train2= clf_lr2.predict(Xtrain)\n",
    "print('[Train] Accuracy score is: ', round(accuracy_score(ytrain, y_pred_train2), 4))\n",
    "      \n",
    "y_pred_test2 = clf_lr2.predict(Xtest)\n",
    "print('[Test] Accuracy score is: ', round(accuracy_score(y_pred_test2, ytest), 4))"
   ]
  },
  {
   "cell_type": "markdown",
   "metadata": {},
   "source": [
    "### Findings from Logistic Regression model with Regularization\n",
    " - Logistic regression model comes with some parameters including penalty. Penalty by default comes with the logistic regression model as l2. Regularixation is a techniwue used to prevent overfitting the model. When L1 is used, the regularization is called Lasso Regression. L1 not only helps reduce model overfitting, it also makes it's data sparce when most of it's cells are zero.\n",
    " - Thaccuracy score using regularization is higher and without model overfitting. This could therefore be a good option for predictions to be done with this data as the accuracy scores of the model is >0.8 for both train and test set."
   ]
  },
  {
   "cell_type": "markdown",
   "metadata": {},
   "source": [
    "### Considering K-Nearest Neighbors model."
   ]
  },
  {
   "cell_type": "code",
   "execution_count": 13,
   "metadata": {},
   "outputs": [
    {
     "name": "stdout",
     "output_type": "stream",
     "text": [
      "[Train] Accuracy score using KNN Model is:  0.8168\n",
      "[Test] Accuracy score using KNN Model is:  0.7567\n"
     ]
    }
   ],
   "source": [
    "# importing the KNeighborsClassifier from sklearn\n",
    "from sklearn.neighbors import KNeighborsClassifier\n",
    "\n",
    "# A classifier from the KNN model\n",
    "clf_knn = KNeighborsClassifier(n_neighbors=5, metric='minkowski', p=2)\n",
    "# n_neighbors is the default number of neighbors to be considered from which the target value will then be place to the class with highest count. \n",
    "\n",
    "clf_knn.fit(Xtrain, ytrain)\n",
    "\n",
    "y_pred_knn = clf_knn.predict(Xtrain)\n",
    "print('[Train] Accuracy score using KNN Model is: ', round(accuracy_score(ytrain, y_pred_knn), 4))\n",
    "      \n",
    "y_pred_knn2 = clf_knn.predict(Xtest)\n",
    "print('[Test] Accuracy score using KNN Model is: ', round(accuracy_score(y_pred_knn2, ytest), 4))"
   ]
  },
  {
   "cell_type": "markdown",
   "metadata": {},
   "source": [
    "### Observations from KNN Model\n",
    " - Using the KNN model, the accuracy score for the train data is a good one with value 0.8163 whereas the test accuracy score is a bit lower with value 0.7567.\n",
    " - The fall in accuracy score when testing the model shows that is the accuracy other inputs will have which is not a good option for a machine learning model.\n",
    " - This therefore means KNN model is not a suitable model for this data."
   ]
  },
  {
   "cell_type": "markdown",
   "metadata": {},
   "source": [
    "### Implementing parameter tuning to optimize the KNN model by improving accuracy score without overfitting the model.\n",
    "This will be done by considering 4 different values of the n-neighbors parameter(5,7,9,11) which will print out the best accuracy score. "
   ]
  },
  {
   "cell_type": "code",
   "execution_count": 14,
   "metadata": {},
   "outputs": [
    {
     "data": {
      "image/png": "[encoded data removed]",
      "text/plain": [
       "<Figure size 576x432 with 1 Axes>"
      ]
     },
     "metadata": {
      "needs_background": "light"
     },
     "output_type": "display_data"
    }
   ],
   "source": [
    "#number of neighbors to consider for the parameter tuning also called K value\n",
    "neighbors = [5, 7, 9, 11] \n",
    "# this parameter takes only set of odd numbers which is why the array has only defined odd numbers to be considered\n",
    "training_accuracy = []\n",
    "test_accuracy = []\n",
    "\n",
    "for i in neighbors:\n",
    "    \n",
    "    clf = KNeighborsClassifier(n_neighbors=i, metric='minkowski', p=2)\n",
    "    \n",
    "    # fit on the training set\n",
    "    clf.fit(Xtrain, ytrain)\n",
    "    \n",
    "    # predict on training set\n",
    "    y_predict_training = clf.predict(Xtrain)\n",
    "    \n",
    "    # predict on test set\n",
    "    y_predict_test = clf.predict(Xtest)\n",
    "    \n",
    "    # save training accuracy for the diff k values\n",
    "    tr_accuracy = accuracy_score(y_predict_training, ytrain)\n",
    "    training_accuracy.append(tr_accuracy)\n",
    "    \n",
    "    # save test accuracy for these neighbors\n",
    "    tst_accuracy = accuracy_score(y_predict_test, ytest)\n",
    "    test_accuracy.append(tst_accuracy)\n",
    "    \n",
    "#Plot of training vs test accuracy \n",
    "#This gives a visualization of how large the difference between these two accuracies is\n",
    "#If there is overfitting or underfitting \n",
    "training_plot, = plt.plot(training_accuracy, 'b',  marker=11)\n",
    "test_plot, = plt.plot(test_accuracy, 'r', alpha = 0.35,  marker=11)\n",
    "plt.legend([training_plot, test_plot], ['Training Accuracy', 'Test Accuracy'])\n",
    "plt.ylabel('Training vs Test Accuracy')\n",
    "plt.show()"
   ]
  },
  {
   "cell_type": "markdown",
   "metadata": {},
   "source": [
    "### Observations from above graph\n",
    " - Parameter tuning is a vital process during the training and testing of a machine learning model as it better optimizes the model without overfitting.\n",
    " - From the above visualization, the training accuracy starts at 0.81 for n_neighbor of 5 and drops linearly as the number of n_neighbors keeps increasing.\n",
    " - The test accuracy rather increases as the number of n_neighbors increases and when at 9, it starts to fall. \n",
    " - Since the data of most interest is the test data, the n_neighbors will therefore be taken as 9 which produces an optimized value for test set.\n",
    " - Unfortunately this accuracy score is not upto 0.8 for the test set which is the preferable minimal accuracy score for a machine learning model. "
   ]
  },
  {
   "cell_type": "markdown",
   "metadata": {},
   "source": [
    "### Considering Decision tree"
   ]
  },
  {
   "cell_type": "code",
   "execution_count": 15,
   "metadata": {},
   "outputs": [
    {
     "name": "stdout",
     "output_type": "stream",
     "text": [
      "[Train] Accuracy score using Decision Tree Model is:  0.9995\n",
      "[Test] Accuracy score using Decision Tree Model is:  0.7293\n"
     ]
    }
   ],
   "source": [
    "# Importing DecisionTree classifier from sklearn.\n",
    "from sklearn.tree import DecisionTreeClassifier\n",
    "\n",
    "clf_dt = DecisionTreeClassifier(criterion='entropy', random_state=0)\n",
    "clf_dt.fit(Xtrain, ytrain)\n",
    "\n",
    "\n",
    "y_pred_dt = clf_dt.predict(Xtrain)\n",
    "print('[Train] Accuracy score using Decision Tree Model is: ', round(accuracy_score(ytrain, y_pred_dt), 4))\n",
    "      \n",
    "y_pred_dt2 = clf_dt.predict(Xtest)\n",
    "print('[Test] Accuracy score using Decision Tree Model is: ', round(accuracy_score(y_pred_dt2, ytest), 4))"
   ]
  },
  {
   "cell_type": "markdown",
   "metadata": {},
   "source": [
    "### Observations from Decision Tree Model\n",
    " - The accuracy score of the Decision tree model on the train set is 0.999 whereas the accuracy score for the test data is just 0.7248. \n",
    " - There is model overfitting as the model turns to train the data too well thereby producing accuracy score of 0.999 with minimal modelling error.\n",
    " - Due to the model being too complex and trying to be perfect, the test values turned to be too low as the predictions were mostly faulty.\n",
    " - Decision trees is therefore not a good option for this case as there is model overfitting."
   ]
  },
  {
   "cell_type": "markdown",
   "metadata": {},
   "source": [
    "### How to optimize this Decision Tree model\n",
    "- Overfitting turns to be common when implementing a decision tree model on large data. This is due to the long decision chain that results from many branches and leaves that were expanded from the data especially when the dataset has many explanatory variables(features)\n",
    "- One way to resolve this issue of model overfitting is by implementing hyper parameter tuning or Pruning\n",
    "- **Pruning** is a techniwue of reducing the size of a decision tree by removing some sections from the tree that do not have the power to classify instances. \n",
    "- In this case, the Decision tree model will be optimized by modifying default parameter values which is a means of reducing the tree size and the depth as the more the tree grows, the more the algorithm turns to be more complex thus resulting to model overfitting.\n",
    "- Two main parameters will be tested and that with optimal solution will be used to optimize the model. They are:\n",
    "- **Max_depth:** This integer value defines the maximum depth of the tree.\n",
    "- **Min_samples_split:** This is the minimum number of samples required to split a node.  \n"
   ]
  },
  {
   "cell_type": "code",
   "execution_count": 16,
   "metadata": {},
   "outputs": [
    {
     "data": {
      "image/png": "[encoded data removed]",
      "text/plain": [
       "<Figure size 576x432 with 1 Axes>"
      ]
     },
     "metadata": {
      "needs_background": "light"
     },
     "output_type": "display_data"
    }
   ],
   "source": [
    "# Implementing a number of tree_depth values to see which produces the best accuracy score without overfitting the model\n",
    "tree_depth = [5, 10, 15, 20, 25, 30] \n",
    "training_accuracy = []\n",
    "test_accuracy = []\n",
    "\n",
    "# loop over multiple tree_depth values\n",
    "for i in tree_depth:\n",
    "    \n",
    "    clf2 = DecisionTreeClassifier(criterion='entropy',max_depth = i, random_state=0)\n",
    "    \n",
    "    # fit on the training set\n",
    "    clf2.fit(Xtrain, ytrain)\n",
    "    \n",
    "    # predict on training set\n",
    "    y_predict_training = clf2.predict(Xtrain)\n",
    "    \n",
    "    # predict on test set\n",
    "    y_predict_test = clf2.predict(Xtest)\n",
    "    \n",
    "    # save training accuracy \n",
    "    tr_accuracy = accuracy_score(y_predict_training, ytrain)\n",
    "    training_accuracy.append(tr_accuracy)\n",
    " \n",
    "    tst_accuracy = accuracy_score(y_predict_test, ytest)\n",
    "    test_accuracy.append(tst_accuracy)\n",
    "\n",
    "    \n",
    "#Plot of training vs test accuracy \n",
    "#This gives a visualization of how large the difference between these two accuracies \n",
    "#If there is overfitting or underfitting \n",
    "\n",
    "training_plot, = plt.plot(training_accuracy, 'b',  marker=11)\n",
    "test_plot, = plt.plot(test_accuracy, 'r', alpha = 0.35,  marker=11)\n",
    "plt.legend([training_plot, test_plot], ['Training Accuracy', 'Test Accuracy'])\n",
    "plt.ylabel('Training vs Test Accuracy')\n",
    "plt.show()"
   ]
  },
  {
   "cell_type": "markdown",
   "metadata": {},
   "source": [
    "### Observations from the graph above\n",
    " - To be able to know which number best fits the model as the tree depth, an array of intergers is implemented to see which will produce best accuracy score without overfitting or underfitting the model.  \n",
    " - This graph shows the best tree depth for ths model is 10. This is because increasing values after the value 10 turns to overfit the model ad the train accuracy score increases while the test accuracy score reduces."
   ]
  },
  {
   "cell_type": "code",
   "execution_count": 17,
   "metadata": {},
   "outputs": [
    {
     "data": {
      "image/png": "[encoded data removed]",
      "text/plain": [
       "<Figure size 576x432 with 1 Axes>"
      ]
     },
     "metadata": {
      "needs_background": "light"
     },
     "output_type": "display_data"
    }
   ],
   "source": [
    "#number of minimum sample splits to consider for the parameter tuning.\n",
    "min_sample_split = [50, 100, 200, 300, 400, 500] \n",
    "training_accuracy = []\n",
    "test_accuracy = []\n",
    "\n",
    "for i in min_sample_split:\n",
    "    \n",
    "    clf3 = DecisionTreeClassifier(criterion='entropy', min_samples_split = i, random_state=0)\n",
    "    \n",
    "    # fit on the training set\n",
    "    clf3.fit(Xtrain, ytrain)\n",
    "    \n",
    "    # predict on training set\n",
    "    y_predict_training = clf3.predict(Xtrain)\n",
    "    \n",
    "    # predict on test set\n",
    "    y_predict_test = clf3.predict(Xtest)\n",
    "    \n",
    "    # save training accuracy \n",
    "    tr_accuracy = accuracy_score(y_predict_training, ytrain)\n",
    "    training_accuracy.append(tr_accuracy)\n",
    "    \n",
    "    tst_accuracy = accuracy_score(y_predict_test, ytest)\n",
    "    test_accuracy.append(tst_accuracy)\n",
    "    \n",
    "    \n",
    "#Plot of training vs test accuracy \n",
    "#This gives a visualization of how large the difference between these two accuracies is\n",
    "#If there is overfitting or underfitting \n",
    "training_plot, = plt.plot(training_accuracy, 'b',  marker=11)\n",
    "test_plot, = plt.plot(test_accuracy, 'r', alpha = 0.35,  marker=11)\n",
    "plt.legend([training_plot, test_plot], ['Training Accuracy', 'Test Accuracy'])\n",
    "plt.ylabel('Training vs Test Accuracy')\n",
    "plt.show()"
   ]
  },
  {
   "cell_type": "markdown",
   "metadata": {},
   "source": [
    " - Minimum sample split is the minimum number of samples required to split a node. Increasing this number more makes the model have a shorter depth and could end up being too simple for the data thereby underfitting the data instead. \n",
    " - From above, an increase in the number of minimum splits increases the test accuracy while reducing the train accuracy thereby reducing overfiiting. \n",
    " - Further increasing this value instead turn to make the model underfit the data as the train accuracy score if moving further will reduce more and the model also becomes to simple to train the data.\n",
    " - The value that is a best fit for this model is 300 as the train and test accuracy scores are high. \n"
   ]
  },
  {
   "cell_type": "code",
   "execution_count": 18,
   "metadata": {},
   "outputs": [
    {
     "name": "stdout",
     "output_type": "stream",
     "text": [
      "[Train] Accuracy score using Decision Tree Model with parameter tuning is:  0.8247\n",
      "[Test] Accuracy score using Decision Tree Model with parameter tuning is:  0.8177\n"
     ]
    }
   ],
   "source": [
    "# Optimized model for the decision tree.\n",
    "# Parameters modified are min_samples_split and max_depth\n",
    "clf_dt2 = DecisionTreeClassifier(criterion='entropy', min_samples_split=300, max_depth=10, random_state=0)\n",
    "clf_dt2.fit(Xtrain, ytrain)\n",
    "\n",
    "\n",
    "ypred_dt = clf_dt2.predict(Xtrain)\n",
    "print('[Train] Accuracy score using Decision Tree Model with parameter tuning is: ', round(accuracy_score(ytrain, ypred_dt), 4))\n",
    "      \n",
    "ypred_dt2 = clf_dt2.predict(Xtest)\n",
    "print('[Test] Accuracy score using Decision Tree Model with parameter tuning is: ', round(accuracy_score(ypred_dt2, ytest), 4))"
   ]
  },
  {
   "cell_type": "markdown",
   "metadata": {},
   "source": [
    "### Findindings after parameter tuning\n",
    " - After creating a classifier with modified parameter values, Decision tree model no longer overfits the data and produces the best accuracy score compared to the other models above."
   ]
  },
  {
   "cell_type": "markdown",
   "metadata": {},
   "source": [
    "## Confussion Matrix and Classification Report for Logistice and Decision Tree models."
   ]
  },
  {
   "cell_type": "code",
   "execution_count": 19,
   "metadata": {},
   "outputs": [
    {
     "name": "stdout",
     "output_type": "stream",
     "text": [
      "Confussion Matrix from the test data\n",
      "[[4682    1]\n",
      " [1317    0]]\n"
     ]
    },
    {
     "data": {
      "text/plain": [
       "<matplotlib.axes._subplots.AxesSubplot at 0xa8ac518>"
      ]
     },
     "execution_count": 19,
     "metadata": {},
     "output_type": "execute_result"
    },
    {
     "data": {
      "image/png": "[encoded data removed]",
      "text/plain": [
       "<Figure size 576x432 with 2 Axes>"
      ]
     },
     "metadata": {
      "needs_background": "light"
     },
     "output_type": "display_data"
    }
   ],
   "source": [
    "from sklearn.metrics import confusion_matrix\n",
    "cf_matrix = confusion_matrix(ytest, y_pred_test)\n",
    "print('Confussion Matrix from the test data')\n",
    "print(cf_matrix)\n",
    "\n",
    "labels = ['Correct \\n True Negative','Wrong \\n False Positive','Wrong \\n False Negative','Correct \\n True Positive']\n",
    "labels = np.asarray(labels).reshape(2,2)\n",
    "\n",
    "sns.heatmap(cf_matrix, annot=labels, fmt='', cmap='Blues')"
   ]
  },
  {
   "cell_type": "markdown",
   "metadata": {},
   "source": [
    "### Observations from the confussion matrix above\n",
    "- A confussion matrix is used to measure the performance of a machine learning classifcation model. Also known as the error matrix brings out the visualization of the performance of a classification model.\n",
    "- From the visualizations above, there are four different sections with different with statistics about the model performance on this data. \n",
    "- From a data set of 30000 entries(records), 20% was to test the model which makes a total of 6000 records. The model perfomance on this data therefore gives statistics of the predictions on the table above which is:  \n",
    "- **4566 TN(True Negatives):** Records that were  predicted as non defaulted and they actually are\n",
    "- **117 FP(False Positives):** Non defaulted cards but classified as defaulted\n",
    "- **1006 FN(False Negatives):** Defaulted cards instead classififed under non defaulted cards. \n",
    "- **311 TP(True Positives):** Records that were predicted as defaulted when actually they cards were defaulted.\n",
    "- TP and FP are assigned to the **Positive class**(Defaulted cards) while TN and FN are assigned to the **negative class**(Non defaulted cards)"
   ]
  },
  {
   "cell_type": "code",
   "execution_count": 20,
   "metadata": {},
   "outputs": [
    {
     "name": "stdout",
     "output_type": "stream",
     "text": [
      "[Training Classification Report:]\n",
      "              precision    recall  f1-score   support\n",
      "\n",
      "           0       0.82      0.97      0.89     18681\n",
      "           1       0.71      0.24      0.36      5319\n",
      "\n",
      "    accuracy                           0.81     24000\n",
      "   macro avg       0.76      0.61      0.62     24000\n",
      "weighted avg       0.79      0.81      0.77     24000\n",
      "\n",
      "[Test Classification Report:]\n",
      "              precision    recall  f1-score   support\n",
      "\n",
      "           0       0.98      0.82      0.89      5572\n",
      "           1       0.24      0.73      0.36       428\n",
      "\n",
      "    accuracy                           0.81      6000\n",
      "   macro avg       0.61      0.77      0.62      6000\n",
      "weighted avg       0.92      0.81      0.85      6000\n",
      "\n"
     ]
    }
   ],
   "source": [
    "# Classification report for Logistic regression with L1 regularization\n",
    "\n",
    "from sklearn.metrics import classification_report\n",
    "\n",
    "print(\"[Training Classification Report:]\")\n",
    "print(classification_report(ytrain, y_pred_train2))\n",
    "\n",
    "print(\"[Test Classification Report:]\")\n",
    "print(classification_report(y_pred_test2, ytest))"
   ]
  },
  {
   "cell_type": "markdown",
   "metadata": {},
   "source": [
    "### Classification Report\n",
    "A classification report is used to measure the efficiency of a classification model by printing out on a table howmany predictions are true and howmany are false.\n",
    " - **Precision** is the ability of this model not to lable a record positive(defaulted card) whereas it is actually negative(non defaulted card).\n",
    " - **Recall** This is the ability of this model to find all positive instances. Positive instances is a sum of True Negative(TN) and False Negative(FN)\n",
    " - **F1 score** is the weighted harmonic mean of precision and recall where the best score is 1.0 and the worst is 0. This cannot be compared to model accuracy as it adds up the recall and precision during it's computation. "
   ]
  },
  {
   "cell_type": "code",
   "execution_count": 21,
   "metadata": {},
   "outputs": [
    {
     "name": "stdout",
     "output_type": "stream",
     "text": [
      "[[4449  234]\n",
      " [ 860  457]]\n"
     ]
    },
    {
     "data": {
      "text/plain": [
       "<matplotlib.axes._subplots.AxesSubplot at 0xa9af4e0>"
      ]
     },
     "execution_count": 21,
     "metadata": {},
     "output_type": "execute_result"
    },
    {
     "data": {
      "image/png": "[encoded data removed]",
      "text/plain": [
       "<Figure size 576x432 with 2 Axes>"
      ]
     },
     "metadata": {
      "needs_background": "light"
     },
     "output_type": "display_data"
    }
   ],
   "source": [
    "from sklearn.metrics import confusion_matrix\n",
    "cf_matrix = confusion_matrix(ytest, ypred_dt2)\n",
    "print(cf_matrix)\n",
    "\n",
    "labels = ['Correct \\n True Negative','Wrong \\n False Positive','Wrong \\n False Negative','Correct \\n True Positive']\n",
    "labels = np.asarray(labels).reshape(2,2)\n",
    "sns.heatmap(cf_matrix, annot=labels, fmt='', cmap='rainbow')\n"
   ]
  },
  {
   "cell_type": "code",
   "execution_count": 22,
   "metadata": {},
   "outputs": [
    {
     "name": "stdout",
     "output_type": "stream",
     "text": [
      "[Training Classification Report:]\n",
      "              precision    recall  f1-score   support\n",
      "\n",
      "           0       0.84      0.95      0.89     18681\n",
      "           1       0.69      0.38      0.49      5319\n",
      "\n",
      "    accuracy                           0.82     24000\n",
      "   macro avg       0.77      0.66      0.69     24000\n",
      "weighted avg       0.81      0.82      0.80     24000\n",
      "\n",
      "[Test Classification Report:]\n",
      "              precision    recall  f1-score   support\n",
      "\n",
      "           0       0.95      0.84      0.89      5309\n",
      "           1       0.35      0.66      0.46       691\n",
      "\n",
      "    accuracy                           0.82      6000\n",
      "   macro avg       0.65      0.75      0.67      6000\n",
      "weighted avg       0.88      0.82      0.84      6000\n",
      "\n"
     ]
    }
   ],
   "source": [
    "# Classification report for Decision tree with hyperparameter tuning\n",
    "\n",
    "print(\"[Training Classification Report:]\")\n",
    "print(classification_report(ytrain, ypred_dt))\n",
    "\n",
    "print(\"[Test Classification Report:]\")\n",
    "print(classification_report(ypred_dt2, ytest))"
   ]
  },
  {
   "cell_type": "markdown",
   "metadata": {},
   "source": [
    "### Observations from classification report of Decision tree with fewer leaves\n",
    " - Since precision is the ability of a model not to label a record positive(defaulted) whereas it is actually negative. This therefore means greater precisions reducing the chances of making wrong predictions.\n",
    " - From above, the precision values of the decisison tree are higher than those for logistic regression which show how accurate the decisison tree model will perform with any other foreign data.\n",
    " - Recall values are also high for this model which is the ability of the model to be able to find all positive instances. Positive instances are sum of True Negative and False Negative values."
   ]
  },
  {
   "cell_type": "markdown",
   "metadata": {},
   "source": [
    "## Misclassification for both Logistic Regression and Decision Tree\n",
    " - In the processing of training and testing a model, misclassifications will always occur which is the case where data points belonging to a different class are classified under a differrent one. This could better be seen as the sum of False positive and False negative from the confussion matrix of the model.\n",
    " - To better visualize this, a histogram is used to visualize the total counts of predictions made under each class against the test values.\n",
    " - With this visualization, the model could better be seen if it is a good fit which has lower misclassified values or worth looking for an alternative as the misclaasification values are really many thereby reducing model accuracy."
   ]
  },
  {
   "cell_type": "markdown",
   "metadata": {},
   "source": [
    "### Misclassification gragh for Logistic regression with regularization."
   ]
  },
  {
   "cell_type": "code",
   "execution_count": 38,
   "metadata": {},
   "outputs": [
    {
     "data": {
      "image/png": "[encoded data removed]",
      "text/plain": [
       "<Figure size 576x432 with 1 Axes>"
      ]
     },
     "metadata": {
      "needs_background": "light"
     },
     "output_type": "display_data"
    }
   ],
   "source": [
    "'''\n",
    "Since ytest and y_pred_test2 have data types of numpy arrays, they have to be converted to series which is a\n",
    "one dimentional array which can hold data type of any form.\n",
    "After which the two series can then be concatenated to form a single dataframe which is a two dimentional size and mutable structure.\n",
    "'''\n",
    "\n",
    "# first convert the predicted values to a series and then to a pandas dataframe.\n",
    "predictions = pd.Series(y_pred_test2)\n",
    "predictions = pd.DataFrame({'Pred defaults':predictions.values})\n",
    "\n",
    "actual_values = pd.Series(ytest)\n",
    "actual_values = pd.DataFrame({'Actual values':actual_values.values})\n",
    "\n",
    "#join both dataframes using the inner join command which returns all rows for both data frames\n",
    "final = predictions.join(actual_values)\n",
    "\n",
    "# Visualization of the data using a histogram\n",
    "bin=3\n",
    "plt.hist(final['Actual values'], alpha=0.9, bins=bin, label='Actuals')\n",
    "plt.hist(final['Pred defaults'], alpha=0.5, bins=bin, label='Predictions')\n",
    "\n",
    "plt.legend(loc='upper right')\n",
    "plt.show()\n"
   ]
  },
  {
   "cell_type": "markdown",
   "metadata": {},
   "source": [
    "### Observations from the visualization above.\n",
    "- Misclassifcation are data points that after esting the model, they classified some of the data points in a class which it doesn't belong to. This misclassification is also seen from the confussion matrix when as the sum of False positive and False negative values.\n",
    "- This histogram above shows the differences in the total counts of each class under the features Pred defaults(predicted defaults values from the model) and Actual values(Initial values which were reserved as the test set)\n",
    "- The model therefore predicted more cards were not defaulted compared to the test data. \n",
    "- Instead fewer defaulted accounts were predicted whereas the test set defined more accounts were defaulted.\n",
    "- From this analysis, model performance is better understood if the values for misclassification are too high, this will result in lower accuracy score for the model thus won't be the best fit for the data."
   ]
  },
  {
   "cell_type": "markdown",
   "metadata": {},
   "source": [
    "### Misclassifications for Decision tree model"
   ]
  },
  {
   "cell_type": "code",
   "execution_count": 39,
   "metadata": {},
   "outputs": [
    {
     "data": {
      "image/png": "[encoded data removed]",
      "text/plain": [
       "<Figure size 576x432 with 1 Axes>"
      ]
     },
     "metadata": {
      "needs_background": "light"
     },
     "output_type": "display_data"
    }
   ],
   "source": [
    "# Predictions made using Xtest will be merged with the test set and then visualized\n",
    "# ypred_dt2\n",
    "\n",
    "predictions = pd.Series(ypred_dt2)\n",
    "predictions = pd.DataFrame({'Pred defaults':predictions.values})\n",
    "\n",
    "final = predictions.join(actual_values)\n",
    "\n",
    "# Visualization of the data using a histogram\n",
    "bin=3\n",
    "plt.hist(final['Actual values'], alpha=0.9, bins=bin, label='Actuals')\n",
    "plt.hist(final['Pred defaults'], alpha=0.5, bins=bin, label='Predictions')\n",
    "\n",
    "plt.legend(loc='upper right')\n",
    "plt.show()"
   ]
  },
  {
   "cell_type": "markdown",
   "metadata": {},
   "source": [
    "### Observations from above visualization\n",
    "- The number of misclassified data points is reduced unlike for Logistic regression above.\n",
    "- This shows Decision tree model has better performance than Logistic since fewer misclassification data points leads to higher model accuracy score."
   ]
  },
  {
   "cell_type": "code",
   "execution_count": null,
   "metadata": {},
   "outputs": [],
   "source": []
  }
 ],
 "metadata": {
  "kernelspec": {
   "display_name": "Python 3",
   "language": "python",
   "name": "python3"
  },
  "language_info": {
   "codemirror_mode": {
    "name": "ipython",
    "version": 3
   },
   "file_extension": ".py",
   "mimetype": "text/x-python",
   "name": "python",
   "nbconvert_exporter": "python",
   "pygments_lexer": "ipython3",
   "version": "3.7.0"
  }
 },
 "nbformat": 4,
 "nbformat_minor": 4
}
