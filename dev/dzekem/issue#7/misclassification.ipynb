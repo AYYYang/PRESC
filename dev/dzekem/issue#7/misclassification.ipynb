{
 "cells": [
  {
   "cell_type": "markdown",
   "metadata": {},
   "source": [
    "## Project Overview\n",
    "### Train and test a classification model(s) on the Default dataset.\n",
    "Before training a model on this dataset, a good understanding of each explanatory variable (features) is vital.\n",
    "### Definition of each feature\n",
    "\n",
    " - **limit_bal**: limit balance also known as credit limit is the **credit limit** after applying for a credit card determined by the credit card issuer.\n",
    " - **sex:** Sex of the credit card owner which is either 1 for **Male** or 2 for **Female**\n",
    " - **education:** Highest level of education for the credit card owner. where 1 = graduate school; 2 = university; 3 = high school; 4 = others\n",
    " - **marriage:** Marital status of credit card owner where 1 = married; 2 = single; 3 = others\n",
    " - **age:** Ages of card owners.\n",
    " - **pay_0 to pay_6:** History of past monthly pay records starting from April(pay_0) to September(pay_6) for each card owner.\n",
    "    statuses are 0: pay duly, 1: payment delay for one month, 2: payment delay for two months.\n",
    " - **bill_amtt1 to bill_amnt6** represents amount of bill statement from April(bill_amt1) to September(bill_amt6). \n",
    "    **Bill statement** is a periodic statement that lists all the payments, purchases and other debits and credits during the billing cycle.\n",
    " - **pay_amt1 to pay_amt6** is amount paid in the previous month. From April(pay_amt1) to September(pay_amt6)\n",
    " - **defaulted:** To defauult means failure to pay a debt on the agreed upon date. IN this case, creditors mostly raise interest rates or decrese the credit limit.\n",
    "        \n",
    "Since defaulted is the target variable in this case, suitable models will be used to train and test the other explanatory variables and see which model predicts with highest accuracy on the dataset.\n"
   ]
  },
  {
   "cell_type": "code",
   "execution_count": 1,
   "metadata": {},
   "outputs": [],
   "source": [
    "#importing packages needed\n",
    "import numpy as np\n",
    "import pandas as pd\n",
    "import seaborn as sns\n",
    "import matplotlib.pyplot as plt  \n",
    "plt.rcParams[\"figure.figsize\"] = (8,6)"
   ]
  },
  {
   "cell_type": "code",
   "execution_count": 2,
   "metadata": {
    "scrolled": true
   },
   "outputs": [
    {
     "data": {
      "text/html": [
       "<div>\n",
       "<style scoped>\n",
       "    .dataframe tbody tr th:only-of-type {\n",
       "        vertical-align: middle;\n",
       "    }\n",
       "\n",
       "    .dataframe tbody tr th {\n",
       "        vertical-align: top;\n",
       "    }\n",
       "\n",
       "    .dataframe thead th {\n",
       "        text-align: right;\n",
       "    }\n",
       "</style>\n",
       "<table border=\"1\" class=\"dataframe\">\n",
       "  <thead>\n",
       "    <tr style=\"text-align: right;\">\n",
       "      <th></th>\n",
       "      <th>id</th>\n",
       "      <th>limit_bal</th>\n",
       "      <th>sex</th>\n",
       "      <th>education</th>\n",
       "      <th>marriage</th>\n",
       "      <th>age</th>\n",
       "      <th>pay_0</th>\n",
       "      <th>pay_2</th>\n",
       "      <th>pay_3</th>\n",
       "      <th>pay_4</th>\n",
       "      <th>...</th>\n",
       "      <th>bill_amt4</th>\n",
       "      <th>bill_amt5</th>\n",
       "      <th>bill_amt6</th>\n",
       "      <th>pay_amt1</th>\n",
       "      <th>pay_amt2</th>\n",
       "      <th>pay_amt3</th>\n",
       "      <th>pay_amt4</th>\n",
       "      <th>pay_amt5</th>\n",
       "      <th>pay_amt6</th>\n",
       "      <th>defaulted</th>\n",
       "    </tr>\n",
       "  </thead>\n",
       "  <tbody>\n",
       "    <tr>\n",
       "      <th>0</th>\n",
       "      <td>1</td>\n",
       "      <td>20000</td>\n",
       "      <td>2</td>\n",
       "      <td>2</td>\n",
       "      <td>1</td>\n",
       "      <td>24</td>\n",
       "      <td>2</td>\n",
       "      <td>2</td>\n",
       "      <td>-1</td>\n",
       "      <td>-1</td>\n",
       "      <td>...</td>\n",
       "      <td>0</td>\n",
       "      <td>0</td>\n",
       "      <td>0</td>\n",
       "      <td>0</td>\n",
       "      <td>689</td>\n",
       "      <td>0</td>\n",
       "      <td>0</td>\n",
       "      <td>0</td>\n",
       "      <td>0</td>\n",
       "      <td>1</td>\n",
       "    </tr>\n",
       "    <tr>\n",
       "      <th>1</th>\n",
       "      <td>2</td>\n",
       "      <td>120000</td>\n",
       "      <td>2</td>\n",
       "      <td>2</td>\n",
       "      <td>2</td>\n",
       "      <td>26</td>\n",
       "      <td>-1</td>\n",
       "      <td>2</td>\n",
       "      <td>0</td>\n",
       "      <td>0</td>\n",
       "      <td>...</td>\n",
       "      <td>3272</td>\n",
       "      <td>3455</td>\n",
       "      <td>3261</td>\n",
       "      <td>0</td>\n",
       "      <td>1000</td>\n",
       "      <td>1000</td>\n",
       "      <td>1000</td>\n",
       "      <td>0</td>\n",
       "      <td>2000</td>\n",
       "      <td>1</td>\n",
       "    </tr>\n",
       "    <tr>\n",
       "      <th>2</th>\n",
       "      <td>3</td>\n",
       "      <td>90000</td>\n",
       "      <td>2</td>\n",
       "      <td>2</td>\n",
       "      <td>2</td>\n",
       "      <td>34</td>\n",
       "      <td>0</td>\n",
       "      <td>0</td>\n",
       "      <td>0</td>\n",
       "      <td>0</td>\n",
       "      <td>...</td>\n",
       "      <td>14331</td>\n",
       "      <td>14948</td>\n",
       "      <td>15549</td>\n",
       "      <td>1518</td>\n",
       "      <td>1500</td>\n",
       "      <td>1000</td>\n",
       "      <td>1000</td>\n",
       "      <td>1000</td>\n",
       "      <td>5000</td>\n",
       "      <td>0</td>\n",
       "    </tr>\n",
       "    <tr>\n",
       "      <th>3</th>\n",
       "      <td>4</td>\n",
       "      <td>50000</td>\n",
       "      <td>2</td>\n",
       "      <td>2</td>\n",
       "      <td>1</td>\n",
       "      <td>37</td>\n",
       "      <td>0</td>\n",
       "      <td>0</td>\n",
       "      <td>0</td>\n",
       "      <td>0</td>\n",
       "      <td>...</td>\n",
       "      <td>28314</td>\n",
       "      <td>28959</td>\n",
       "      <td>29547</td>\n",
       "      <td>2000</td>\n",
       "      <td>2019</td>\n",
       "      <td>1200</td>\n",
       "      <td>1100</td>\n",
       "      <td>1069</td>\n",
       "      <td>1000</td>\n",
       "      <td>0</td>\n",
       "    </tr>\n",
       "    <tr>\n",
       "      <th>4</th>\n",
       "      <td>5</td>\n",
       "      <td>50000</td>\n",
       "      <td>1</td>\n",
       "      <td>2</td>\n",
       "      <td>1</td>\n",
       "      <td>57</td>\n",
       "      <td>-1</td>\n",
       "      <td>0</td>\n",
       "      <td>-1</td>\n",
       "      <td>0</td>\n",
       "      <td>...</td>\n",
       "      <td>20940</td>\n",
       "      <td>19146</td>\n",
       "      <td>19131</td>\n",
       "      <td>2000</td>\n",
       "      <td>36681</td>\n",
       "      <td>10000</td>\n",
       "      <td>9000</td>\n",
       "      <td>689</td>\n",
       "      <td>679</td>\n",
       "      <td>0</td>\n",
       "    </tr>\n",
       "  </tbody>\n",
       "</table>\n",
       "<p>5 rows × 25 columns</p>\n",
       "</div>"
      ],
      "text/plain": [
       "   id  limit_bal  sex  education  marriage  age  pay_0  pay_2  pay_3  pay_4  \\\n",
       "0   1      20000    2          2         1   24      2      2     -1     -1   \n",
       "1   2     120000    2          2         2   26     -1      2      0      0   \n",
       "2   3      90000    2          2         2   34      0      0      0      0   \n",
       "3   4      50000    2          2         1   37      0      0      0      0   \n",
       "4   5      50000    1          2         1   57     -1      0     -1      0   \n",
       "\n",
       "     ...      bill_amt4  bill_amt5  bill_amt6  pay_amt1  pay_amt2  pay_amt3  \\\n",
       "0    ...              0          0          0         0       689         0   \n",
       "1    ...           3272       3455       3261         0      1000      1000   \n",
       "2    ...          14331      14948      15549      1518      1500      1000   \n",
       "3    ...          28314      28959      29547      2000      2019      1200   \n",
       "4    ...          20940      19146      19131      2000     36681     10000   \n",
       "\n",
       "   pay_amt4  pay_amt5  pay_amt6  defaulted  \n",
       "0         0         0         0          1  \n",
       "1      1000         0      2000          1  \n",
       "2      1000      1000      5000          0  \n",
       "3      1100      1069      1000          0  \n",
       "4      9000       689       679          0  \n",
       "\n",
       "[5 rows x 25 columns]"
      ]
     },
     "execution_count": 2,
     "metadata": {},
     "output_type": "execute_result"
    }
   ],
   "source": [
    "data = pd.read_csv('..\\..\\datasets\\defaults.csv')\n",
    "data.head()"
   ]
  },
  {
   "cell_type": "markdown",
   "metadata": {},
   "source": [
    "### Performing Data cleaning and preprocessing.\n",
    "At this point, cleaning is done by ensuring there are no missing values or \n",
    "wrong input values by following the dataset description and the data given. "
   ]
  },
  {
   "cell_type": "code",
   "execution_count": 3,
   "metadata": {},
   "outputs": [
    {
     "data": {
      "text/html": [
       "<div>\n",
       "<style scoped>\n",
       "    .dataframe tbody tr th:only-of-type {\n",
       "        vertical-align: middle;\n",
       "    }\n",
       "\n",
       "    .dataframe tbody tr th {\n",
       "        vertical-align: top;\n",
       "    }\n",
       "\n",
       "    .dataframe thead th {\n",
       "        text-align: right;\n",
       "    }\n",
       "</style>\n",
       "<table border=\"1\" class=\"dataframe\">\n",
       "  <thead>\n",
       "    <tr style=\"text-align: right;\">\n",
       "      <th></th>\n",
       "      <th>id</th>\n",
       "      <th>limit_bal</th>\n",
       "      <th>sex</th>\n",
       "      <th>education</th>\n",
       "      <th>marriage</th>\n",
       "      <th>age</th>\n",
       "      <th>pay_0</th>\n",
       "      <th>pay_2</th>\n",
       "      <th>pay_3</th>\n",
       "      <th>pay_4</th>\n",
       "      <th>...</th>\n",
       "      <th>bill_amt4</th>\n",
       "      <th>bill_amt5</th>\n",
       "      <th>bill_amt6</th>\n",
       "      <th>pay_amt1</th>\n",
       "      <th>pay_amt2</th>\n",
       "      <th>pay_amt3</th>\n",
       "      <th>pay_amt4</th>\n",
       "      <th>pay_amt5</th>\n",
       "      <th>pay_amt6</th>\n",
       "      <th>defaulted</th>\n",
       "    </tr>\n",
       "  </thead>\n",
       "  <tbody>\n",
       "    <tr>\n",
       "      <th>count</th>\n",
       "      <td>30000.000000</td>\n",
       "      <td>30000.000000</td>\n",
       "      <td>30000.000000</td>\n",
       "      <td>30000.000000</td>\n",
       "      <td>30000.000000</td>\n",
       "      <td>30000.000000</td>\n",
       "      <td>30000.000000</td>\n",
       "      <td>30000.000000</td>\n",
       "      <td>30000.000000</td>\n",
       "      <td>30000.000000</td>\n",
       "      <td>...</td>\n",
       "      <td>30000.000000</td>\n",
       "      <td>30000.000000</td>\n",
       "      <td>30000.000000</td>\n",
       "      <td>30000.000000</td>\n",
       "      <td>3.000000e+04</td>\n",
       "      <td>30000.00000</td>\n",
       "      <td>30000.000000</td>\n",
       "      <td>30000.000000</td>\n",
       "      <td>30000.000000</td>\n",
       "      <td>30000.000000</td>\n",
       "    </tr>\n",
       "    <tr>\n",
       "      <th>mean</th>\n",
       "      <td>15000.500000</td>\n",
       "      <td>167484.322667</td>\n",
       "      <td>1.603733</td>\n",
       "      <td>1.853133</td>\n",
       "      <td>1.551867</td>\n",
       "      <td>35.485500</td>\n",
       "      <td>-0.016700</td>\n",
       "      <td>-0.133767</td>\n",
       "      <td>-0.166200</td>\n",
       "      <td>-0.220667</td>\n",
       "      <td>...</td>\n",
       "      <td>43262.948967</td>\n",
       "      <td>40311.400967</td>\n",
       "      <td>38871.760400</td>\n",
       "      <td>5663.580500</td>\n",
       "      <td>5.921163e+03</td>\n",
       "      <td>5225.68150</td>\n",
       "      <td>4826.076867</td>\n",
       "      <td>4799.387633</td>\n",
       "      <td>5215.502567</td>\n",
       "      <td>0.221200</td>\n",
       "    </tr>\n",
       "    <tr>\n",
       "      <th>std</th>\n",
       "      <td>8660.398374</td>\n",
       "      <td>129747.661567</td>\n",
       "      <td>0.489129</td>\n",
       "      <td>0.790349</td>\n",
       "      <td>0.521970</td>\n",
       "      <td>9.217904</td>\n",
       "      <td>1.123802</td>\n",
       "      <td>1.197186</td>\n",
       "      <td>1.196868</td>\n",
       "      <td>1.169139</td>\n",
       "      <td>...</td>\n",
       "      <td>64332.856134</td>\n",
       "      <td>60797.155770</td>\n",
       "      <td>59554.107537</td>\n",
       "      <td>16563.280354</td>\n",
       "      <td>2.304087e+04</td>\n",
       "      <td>17606.96147</td>\n",
       "      <td>15666.159744</td>\n",
       "      <td>15278.305679</td>\n",
       "      <td>17777.465775</td>\n",
       "      <td>0.415062</td>\n",
       "    </tr>\n",
       "    <tr>\n",
       "      <th>min</th>\n",
       "      <td>1.000000</td>\n",
       "      <td>10000.000000</td>\n",
       "      <td>1.000000</td>\n",
       "      <td>0.000000</td>\n",
       "      <td>0.000000</td>\n",
       "      <td>21.000000</td>\n",
       "      <td>-2.000000</td>\n",
       "      <td>-2.000000</td>\n",
       "      <td>-2.000000</td>\n",
       "      <td>-2.000000</td>\n",
       "      <td>...</td>\n",
       "      <td>-170000.000000</td>\n",
       "      <td>-81334.000000</td>\n",
       "      <td>-339603.000000</td>\n",
       "      <td>0.000000</td>\n",
       "      <td>0.000000e+00</td>\n",
       "      <td>0.00000</td>\n",
       "      <td>0.000000</td>\n",
       "      <td>0.000000</td>\n",
       "      <td>0.000000</td>\n",
       "      <td>0.000000</td>\n",
       "    </tr>\n",
       "    <tr>\n",
       "      <th>25%</th>\n",
       "      <td>7500.750000</td>\n",
       "      <td>50000.000000</td>\n",
       "      <td>1.000000</td>\n",
       "      <td>1.000000</td>\n",
       "      <td>1.000000</td>\n",
       "      <td>28.000000</td>\n",
       "      <td>-1.000000</td>\n",
       "      <td>-1.000000</td>\n",
       "      <td>-1.000000</td>\n",
       "      <td>-1.000000</td>\n",
       "      <td>...</td>\n",
       "      <td>2326.750000</td>\n",
       "      <td>1763.000000</td>\n",
       "      <td>1256.000000</td>\n",
       "      <td>1000.000000</td>\n",
       "      <td>8.330000e+02</td>\n",
       "      <td>390.00000</td>\n",
       "      <td>296.000000</td>\n",
       "      <td>252.500000</td>\n",
       "      <td>117.750000</td>\n",
       "      <td>0.000000</td>\n",
       "    </tr>\n",
       "    <tr>\n",
       "      <th>50%</th>\n",
       "      <td>15000.500000</td>\n",
       "      <td>140000.000000</td>\n",
       "      <td>2.000000</td>\n",
       "      <td>2.000000</td>\n",
       "      <td>2.000000</td>\n",
       "      <td>34.000000</td>\n",
       "      <td>0.000000</td>\n",
       "      <td>0.000000</td>\n",
       "      <td>0.000000</td>\n",
       "      <td>0.000000</td>\n",
       "      <td>...</td>\n",
       "      <td>19052.000000</td>\n",
       "      <td>18104.500000</td>\n",
       "      <td>17071.000000</td>\n",
       "      <td>2100.000000</td>\n",
       "      <td>2.009000e+03</td>\n",
       "      <td>1800.00000</td>\n",
       "      <td>1500.000000</td>\n",
       "      <td>1500.000000</td>\n",
       "      <td>1500.000000</td>\n",
       "      <td>0.000000</td>\n",
       "    </tr>\n",
       "    <tr>\n",
       "      <th>75%</th>\n",
       "      <td>22500.250000</td>\n",
       "      <td>240000.000000</td>\n",
       "      <td>2.000000</td>\n",
       "      <td>2.000000</td>\n",
       "      <td>2.000000</td>\n",
       "      <td>41.000000</td>\n",
       "      <td>0.000000</td>\n",
       "      <td>0.000000</td>\n",
       "      <td>0.000000</td>\n",
       "      <td>0.000000</td>\n",
       "      <td>...</td>\n",
       "      <td>54506.000000</td>\n",
       "      <td>50190.500000</td>\n",
       "      <td>49198.250000</td>\n",
       "      <td>5006.000000</td>\n",
       "      <td>5.000000e+03</td>\n",
       "      <td>4505.00000</td>\n",
       "      <td>4013.250000</td>\n",
       "      <td>4031.500000</td>\n",
       "      <td>4000.000000</td>\n",
       "      <td>0.000000</td>\n",
       "    </tr>\n",
       "    <tr>\n",
       "      <th>max</th>\n",
       "      <td>30000.000000</td>\n",
       "      <td>1000000.000000</td>\n",
       "      <td>2.000000</td>\n",
       "      <td>6.000000</td>\n",
       "      <td>3.000000</td>\n",
       "      <td>79.000000</td>\n",
       "      <td>8.000000</td>\n",
       "      <td>8.000000</td>\n",
       "      <td>8.000000</td>\n",
       "      <td>8.000000</td>\n",
       "      <td>...</td>\n",
       "      <td>891586.000000</td>\n",
       "      <td>927171.000000</td>\n",
       "      <td>961664.000000</td>\n",
       "      <td>873552.000000</td>\n",
       "      <td>1.684259e+06</td>\n",
       "      <td>896040.00000</td>\n",
       "      <td>621000.000000</td>\n",
       "      <td>426529.000000</td>\n",
       "      <td>528666.000000</td>\n",
       "      <td>1.000000</td>\n",
       "    </tr>\n",
       "  </tbody>\n",
       "</table>\n",
       "<p>8 rows × 25 columns</p>\n",
       "</div>"
      ],
      "text/plain": [
       "                 id       limit_bal           sex     education      marriage  \\\n",
       "count  30000.000000    30000.000000  30000.000000  30000.000000  30000.000000   \n",
       "mean   15000.500000   167484.322667      1.603733      1.853133      1.551867   \n",
       "std     8660.398374   129747.661567      0.489129      0.790349      0.521970   \n",
       "min        1.000000    10000.000000      1.000000      0.000000      0.000000   \n",
       "25%     7500.750000    50000.000000      1.000000      1.000000      1.000000   \n",
       "50%    15000.500000   140000.000000      2.000000      2.000000      2.000000   \n",
       "75%    22500.250000   240000.000000      2.000000      2.000000      2.000000   \n",
       "max    30000.000000  1000000.000000      2.000000      6.000000      3.000000   \n",
       "\n",
       "                age         pay_0         pay_2         pay_3         pay_4  \\\n",
       "count  30000.000000  30000.000000  30000.000000  30000.000000  30000.000000   \n",
       "mean      35.485500     -0.016700     -0.133767     -0.166200     -0.220667   \n",
       "std        9.217904      1.123802      1.197186      1.196868      1.169139   \n",
       "min       21.000000     -2.000000     -2.000000     -2.000000     -2.000000   \n",
       "25%       28.000000     -1.000000     -1.000000     -1.000000     -1.000000   \n",
       "50%       34.000000      0.000000      0.000000      0.000000      0.000000   \n",
       "75%       41.000000      0.000000      0.000000      0.000000      0.000000   \n",
       "max       79.000000      8.000000      8.000000      8.000000      8.000000   \n",
       "\n",
       "           ...           bill_amt4      bill_amt5      bill_amt6  \\\n",
       "count      ...        30000.000000   30000.000000   30000.000000   \n",
       "mean       ...        43262.948967   40311.400967   38871.760400   \n",
       "std        ...        64332.856134   60797.155770   59554.107537   \n",
       "min        ...      -170000.000000  -81334.000000 -339603.000000   \n",
       "25%        ...         2326.750000    1763.000000    1256.000000   \n",
       "50%        ...        19052.000000   18104.500000   17071.000000   \n",
       "75%        ...        54506.000000   50190.500000   49198.250000   \n",
       "max        ...       891586.000000  927171.000000  961664.000000   \n",
       "\n",
       "            pay_amt1      pay_amt2      pay_amt3       pay_amt4  \\\n",
       "count   30000.000000  3.000000e+04   30000.00000   30000.000000   \n",
       "mean     5663.580500  5.921163e+03    5225.68150    4826.076867   \n",
       "std     16563.280354  2.304087e+04   17606.96147   15666.159744   \n",
       "min         0.000000  0.000000e+00       0.00000       0.000000   \n",
       "25%      1000.000000  8.330000e+02     390.00000     296.000000   \n",
       "50%      2100.000000  2.009000e+03    1800.00000    1500.000000   \n",
       "75%      5006.000000  5.000000e+03    4505.00000    4013.250000   \n",
       "max    873552.000000  1.684259e+06  896040.00000  621000.000000   \n",
       "\n",
       "            pay_amt5       pay_amt6     defaulted  \n",
       "count   30000.000000   30000.000000  30000.000000  \n",
       "mean     4799.387633    5215.502567      0.221200  \n",
       "std     15278.305679   17777.465775      0.415062  \n",
       "min         0.000000       0.000000      0.000000  \n",
       "25%       252.500000     117.750000      0.000000  \n",
       "50%      1500.000000    1500.000000      0.000000  \n",
       "75%      4031.500000    4000.000000      0.000000  \n",
       "max    426529.000000  528666.000000      1.000000  \n",
       "\n",
       "[8 rows x 25 columns]"
      ]
     },
     "execution_count": 3,
     "metadata": {},
     "output_type": "execute_result"
    }
   ],
   "source": [
    "data.describe()"
   ]
  },
  {
   "cell_type": "markdown",
   "metadata": {},
   "source": [
    " - The inbuilt function describes gives more details for all numerical features and since all the features here are numerical, the description is given for all of them.\n",
    " - prints out the counts of all the records for each feature, mean, standard deviation, min, max and percentile values. This helps better understand the nature of the explanatory variable."
   ]
  },
  {
   "cell_type": "code",
   "execution_count": 5,
   "metadata": {},
   "outputs": [
    {
     "data": {
      "text/plain": [
       "False"
      ]
     },
     "execution_count": 5,
     "metadata": {},
     "output_type": "execute_result"
    }
   ],
   "source": [
    "# check for null values\n",
    "data.isnull().any().any()"
   ]
  },
  {
   "cell_type": "markdown",
   "metadata": {},
   "source": [
    "The inbuilt function isnull() prints out any null(undefined or empty space) values and which feature the record belongs. \n",
    "In this case there is no null value which therefore helps proceed to the next level."
   ]
  },
  {
   "cell_type": "markdown",
   "metadata": {},
   "source": [
    "## Logistic Regression with and without regularization"
   ]
  },
  {
   "cell_type": "code",
   "execution_count": 11,
   "metadata": {},
   "outputs": [
    {
     "name": "stdout",
     "output_type": "stream",
     "text": [
      "X:  <class 'numpy.ndarray'> (30000, 23)\n",
      "y:  <class 'numpy.ndarray'> (30000,)\n",
      "Accuracy of the logistic regression model on the training and test set is\n",
      "[Train] Accuracy score is:  0.7783\n",
      "[Test] Accuracy score is:  0.7803\n"
     ]
    }
   ],
   "source": [
    "# Logistic regression is a scikit learn model so it must be imported from sklearn, train_test_split and also accuracy score are all imported from sklearn\n",
    "from sklearn.model_selection import train_test_split\n",
    "from sklearn.linear_model import LogisticRegression\n",
    "from sklearn.metrics import accuracy_score\n",
    "\n",
    "X = data.iloc[:, 1:24].values\n",
    "print('X: ', type(X), X.shape)\n",
    "y = data.iloc[:, 24].values\n",
    "print('y: ', type(y), y.shape)\n",
    "\n",
    "# Splitting the data into train and test set in the ratio 80:20\n",
    "Xtrain, Xtest, ytrain, ytest = train_test_split(X, y, test_size=0.2, random_state=10)\n",
    "print(\"Accuracy of the logistic regression model on the training and test set is\" )\n",
    "\n",
    "clf_lr = LogisticRegression(solver='liblinear')\n",
    "\n",
    "clf_lr.fit(Xtrain, ytrain)\n",
    "\n",
    "y_pred_train = clf_lr.predict(Xtrain)\n",
    "print('[Train] Accuracy score is: ', round(accuracy_score(ytrain, y_pred_train), 4))\n",
    "      \n",
    "y_pred_test = clf_lr.predict(Xtest)\n",
    "print('[Test] Accuracy score is: ', round(accuracy_score(y_pred_test, ytest), 4))"
   ]
  },
  {
   "cell_type": "markdown",
   "metadata": {},
   "source": [
    "### Findings from above model.\n",
    " - After splitting the data into test and train, logistic regression model was used which gave an accuracy score of 0.7783 on th train set and an accuracy score of 0.7803 for the test set.\n",
    " - This score is the best for a machine learning predictions. This therefore is the reason why when making predictions, two or more models are always tested to see which produces best accuracy results without overfitting the model."
   ]
  },
  {
   "cell_type": "markdown",
   "metadata": {},
   "source": [
    "#### With Regularization\n",
    "This is called parameter tuning where the model parameters are changed from the default values so as to better optimize the model."
   ]
  },
  {
   "cell_type": "code",
   "execution_count": 12,
   "metadata": {},
   "outputs": [
    {
     "name": "stdout",
     "output_type": "stream",
     "text": [
      "[Train] Accuracy score is:  0.81\n",
      "[Test] Accuracy score is:  0.8128\n"
     ]
    }
   ],
   "source": [
    "# logistic regression classifier with regularization set to l1.\n",
    "clf_lr2 = LogisticRegression(penalty='l1', solver='liblinear')\n",
    "\n",
    "clf_lr2.fit(Xtrain, ytrain)\n",
    "\n",
    "y_pred_train2= clf_lr2.predict(Xtrain)\n",
    "print('[Train] Accuracy score is: ', round(accuracy_score(ytrain, y_pred_train2), 4))\n",
    "      \n",
    "y_pred_test2 = clf_lr2.predict(Xtest)\n",
    "print('[Test] Accuracy score is: ', round(accuracy_score(y_pred_test2, ytest), 4))"
   ]
  },
  {
   "cell_type": "markdown",
   "metadata": {},
   "source": [
    "### Findings from Logistic Regression model with Regularization\n",
    " - Logistic regression model comes with some parameters including penalty. Penalty by default comes with the logistic regression model as l2. Regularixation is a techniwue used to prevent overfitting the model. When L1 is used, the regularization is called Lasso Regression. L1 not only helps reduce model overfitting, it also makes it's data sparce when most of it's cells are zero.\n",
    " - Thaccuracy score using regularization is higher and without model overfitting. This could therefore be a good option for predictions to be done with this data as the accuracy scores of the model is >0.8 for both train and test set."
   ]
  },
  {
   "cell_type": "markdown",
   "metadata": {},
   "source": [
    "### Considering Decision tree"
   ]
  },
  {
   "cell_type": "code",
   "execution_count": 15,
   "metadata": {},
   "outputs": [
    {
     "name": "stdout",
     "output_type": "stream",
     "text": [
      "[Train] Accuracy score using Decision Tree Model is:  0.9995\n",
      "[Test] Accuracy score using Decision Tree Model is:  0.7293\n"
     ]
    }
   ],
   "source": [
    "# Importing DecisionTree classifier from sklearn.\n",
    "from sklearn.tree import DecisionTreeClassifier\n",
    "\n",
    "clf_dt = DecisionTreeClassifier(criterion='entropy', random_state=0)\n",
    "clf_dt.fit(Xtrain, ytrain)\n",
    "\n",
    "\n",
    "y_pred_dt = clf_dt.predict(Xtrain)\n",
    "print('[Train] Accuracy score using Decision Tree Model is: ', round(accuracy_score(ytrain, y_pred_dt), 4))\n",
    "      \n",
    "y_pred_dt2 = clf_dt.predict(Xtest)\n",
    "print('[Test] Accuracy score using Decision Tree Model is: ', round(accuracy_score(y_pred_dt2, ytest), 4))"
   ]
  },
  {
   "cell_type": "markdown",
   "metadata": {},
   "source": [
    "### Observations from Decision Tree Model\n",
    " - The accuracy score of the Decision tree model on the train set is 0.999 whereas the accuracy score for the test data is just 0.7248. \n",
    " - There is model overfitting as the model turns to train the data too well thereby producing accuracy score of 0.999 with minimal modelling error.\n",
    " - Due to the model being too complex and trying to be perfect, the test values turned to be too low as the predictions were mostly faulty.\n",
    " - Decision trees is therefore not a good option for this case as there is model overfitting."
   ]
  },
  {
   "cell_type": "markdown",
   "metadata": {},
   "source": [
    "### How to optimize this Decision Tree model\n",
    "- Overfitting turns to be common when implementing a decision tree model on large data. This is due to the long decision chain that results from many branches and leaves that were expanded from the data especially when the dataset has many explanatory variables(features)\n",
    "- One way to resolve this issue of model overfitting is by implementing hyper parameter tuning or Pruning\n",
    "- **Pruning** is a techniwue of reducing the size of a decision tree by removing some sections from the tree that do not have the power to classify instances. \n",
    "- In this case, the Decision tree model will be optimized by modifying default parameter values which is a means of reducing the tree size and the depth as the more the tree grows, the more the algorithm turns to be more complex thus resulting to model overfitting.\n",
    "- Two main parameters will be tested and that with optimal solution will be used to optimize the model. They are:\n",
    "- **Max_depth:** This integer value defines the maximum depth of the tree.\n",
    "- **Min_samples_split:** This is the minimum number of samples required to split a node.  \n"
   ]
  },
  {
   "cell_type": "code",
   "execution_count": 18,
   "metadata": {},
   "outputs": [
    {
     "name": "stdout",
     "output_type": "stream",
     "text": [
      "[Train] Accuracy score using Decision Tree Model with parameter tuning is:  0.8247\n",
      "[Test] Accuracy score using Decision Tree Model with parameter tuning is:  0.8177\n"
     ]
    }
   ],
   "source": [
    "# Optimized model for the decision tree.\n",
    "# Parameters modified are min_samples_split and max_depth\n",
    "clf_dt2 = DecisionTreeClassifier(criterion='entropy', min_samples_split=300, max_depth=10, random_state=0)\n",
    "clf_dt2.fit(Xtrain, ytrain)\n",
    "\n",
    "\n",
    "ypred_dt = clf_dt2.predict(Xtrain)\n",
    "print('[Train] Accuracy score using Decision Tree Model with parameter tuning is: ', round(accuracy_score(ytrain, ypred_dt), 4))\n",
    "      \n",
    "ypred_dt2 = clf_dt2.predict(Xtest)\n",
    "print('[Test] Accuracy score using Decision Tree Model with parameter tuning is: ', round(accuracy_score(ypred_dt2, ytest), 4))"
   ]
  },
  {
   "cell_type": "markdown",
   "metadata": {},
   "source": [
    "### Findindings after parameter tuning\n",
    " - After creating a classifier with modified parameter values, Decision tree model no longer overfits the data and produces the best accuracy score compared to the other models above."
   ]
  },
  {
   "cell_type": "markdown",
   "metadata": {},
   "source": [
    "## Confussion Matrix and Classification Report for Logistice and Decision Tree models."
   ]
  },
  {
   "cell_type": "code",
   "execution_count": 19,
   "metadata": {},
   "outputs": [
    {
     "name": "stdout",
     "output_type": "stream",
     "text": [
      "Confussion Matrix from the test data\n",
      "[[4682    1]\n",
      " [1317    0]]\n"
     ]
    },
    {
     "data": {
      "text/plain": [
       "<matplotlib.axes._subplots.AxesSubplot at 0xa8ac518>"
      ]
     },
     "execution_count": 19,
     "metadata": {},
     "output_type": "execute_result"
    },
    {
     "data": {
      "image/png": "[encoded data removed]",
      "text/plain": [
       "<Figure size 576x432 with 2 Axes>"
      ]
     },
     "metadata": {
      "needs_background": "light"
     },
     "output_type": "display_data"
    }
   ],
   "source": [
    "from sklearn.metrics import confusion_matrix\n",
    "cf_matrix = confusion_matrix(ytest, y_pred_test)\n",
    "print('Confussion Matrix from the test data')\n",
    "print(cf_matrix)\n",
    "\n",
    "labels = ['Correct \\n True Negative','Wrong \\n False Positive','Wrong \\n False Negative','Correct \\n True Positive']\n",
    "labels = np.asarray(labels).reshape(2,2)\n",
    "\n",
    "sns.heatmap(cf_matrix, annot=labels, fmt='', cmap='Blues')"
   ]
  },
  {
   "cell_type": "markdown",
   "metadata": {},
   "source": [
    "### Observations from the confussion matrix above\n",
    "- A confussion matrix is used to measure the performance of a machine learning classifcation model. Also known as the error matrix brings out the visualization of the performance of a classification model.\n",
    "- From the visualizations above, there are four different sections with different with statistics about the model performance on this data. \n",
    "- From a data set of 30000 entries(records), 20% was to test the model which makes a total of 6000 records. The model perfomance on this data therefore gives statistics of the predictions on the table above which is:  \n",
    "- **4566 TN(True Negatives):** Records that were  predicted as non defaulted and they actually are\n",
    "- **117 FP(False Positives):** Non defaulted cards but classified as defaulted\n",
    "- **1006 FN(False Negatives):** Defaulted cards instead classififed under non defaulted cards. \n",
    "- **311 TP(True Positives):** Records that were predicted as defaulted when actually they cards were defaulted.\n",
    "- TP and FP are assigned to the **Positive class**(Defaulted cards) while TN and FN are assigned to the **negative class**(Non defaulted cards)"
   ]
  },
  {
   "cell_type": "code",
   "execution_count": 20,
   "metadata": {},
   "outputs": [
    {
     "name": "stdout",
     "output_type": "stream",
     "text": [
      "[Training Classification Report:]\n",
      "              precision    recall  f1-score   support\n",
      "\n",
      "           0       0.82      0.97      0.89     18681\n",
      "           1       0.71      0.24      0.36      5319\n",
      "\n",
      "    accuracy                           0.81     24000\n",
      "   macro avg       0.76      0.61      0.62     24000\n",
      "weighted avg       0.79      0.81      0.77     24000\n",
      "\n",
      "[Test Classification Report:]\n",
      "              precision    recall  f1-score   support\n",
      "\n",
      "           0       0.98      0.82      0.89      5572\n",
      "           1       0.24      0.73      0.36       428\n",
      "\n",
      "    accuracy                           0.81      6000\n",
      "   macro avg       0.61      0.77      0.62      6000\n",
      "weighted avg       0.92      0.81      0.85      6000\n",
      "\n"
     ]
    }
   ],
   "source": [
    "# Classification report for Logistic regression with L1 regularization\n",
    "\n",
    "from sklearn.metrics import classification_report\n",
    "\n",
    "print(\"[Training Classification Report:]\")\n",
    "print(classification_report(ytrain, y_pred_train2))\n",
    "\n",
    "print(\"[Test Classification Report:]\")\n",
    "print(classification_report(y_pred_test2, ytest))"
   ]
  },
  {
   "cell_type": "markdown",
   "metadata": {},
   "source": [
    "### Classification Report\n",
    "A classification report is used to measure the efficiency of a classification model by printing out on a table howmany predictions are true and howmany are false.\n",
    " - **Precision** is the ability of this model not to lable a record positive(defaulted card) whereas it is actually negative(non defaulted card).\n",
    " - **Recall** This is the ability of this model to find all positive instances. Positive instances is a sum of True Negative(TN) and False Negative(FN)\n",
    " - **F1 score** is the weighted harmonic mean of precision and recall where the best score is 1.0 and the worst is 0. This cannot be compared to model accuracy as it adds up the recall and precision during it's computation. "
   ]
  },
  {
   "cell_type": "code",
   "execution_count": 21,
   "metadata": {},
   "outputs": [
    {
     "name": "stdout",
     "output_type": "stream",
     "text": [
      "[[4449  234]\n",
      " [ 860  457]]\n"
     ]
    },
    {
     "data": {
      "text/plain": [
       "<matplotlib.axes._subplots.AxesSubplot at 0xa9af4e0>"
      ]
     },
     "execution_count": 21,
     "metadata": {},
     "output_type": "execute_result"
    },
    {
     "data": {
      "image/png": "[encoded data removed]",
      "text/plain": [
       "<Figure size 576x432 with 2 Axes>"
      ]
     },
     "metadata": {
      "needs_background": "light"
     },
     "output_type": "display_data"
    }
   ],
   "source": [
    "from sklearn.metrics import confusion_matrix\n",
    "cf_matrix = confusion_matrix(ytest, ypred_dt2)\n",
    "print(cf_matrix)\n",
    "\n",
    "labels = ['Correct \\n True Negative','Wrong \\n False Positive','Wrong \\n False Negative','Correct \\n True Positive']\n",
    "labels = np.asarray(labels).reshape(2,2)\n",
    "sns.heatmap(cf_matrix, annot=labels, fmt='', cmap='rainbow')\n"
   ]
  },
  {
   "cell_type": "code",
   "execution_count": 22,
   "metadata": {},
   "outputs": [
    {
     "name": "stdout",
     "output_type": "stream",
     "text": [
      "[Training Classification Report:]\n",
      "              precision    recall  f1-score   support\n",
      "\n",
      "           0       0.84      0.95      0.89     18681\n",
      "           1       0.69      0.38      0.49      5319\n",
      "\n",
      "    accuracy                           0.82     24000\n",
      "   macro avg       0.77      0.66      0.69     24000\n",
      "weighted avg       0.81      0.82      0.80     24000\n",
      "\n",
      "[Test Classification Report:]\n",
      "              precision    recall  f1-score   support\n",
      "\n",
      "           0       0.95      0.84      0.89      5309\n",
      "           1       0.35      0.66      0.46       691\n",
      "\n",
      "    accuracy                           0.82      6000\n",
      "   macro avg       0.65      0.75      0.67      6000\n",
      "weighted avg       0.88      0.82      0.84      6000\n",
      "\n"
     ]
    }
   ],
   "source": [
    "# Classification report for Decision tree with hyperparameter tuning\n",
    "\n",
    "print(\"[Training Classification Report:]\")\n",
    "print(classification_report(ytrain, ypred_dt))\n",
    "\n",
    "print(\"[Test Classification Report:]\")\n",
    "print(classification_report(ypred_dt2, ytest))"
   ]
  },
  {
   "cell_type": "markdown",
   "metadata": {},
   "source": [
    "### Observations from classification report of Decision tree with fewer leaves\n",
    " - Since precision is the ability of a model not to label a record positive(defaulted) whereas it is actually negative. This therefore means greater precisions reducing the chances of making wrong predictions.\n",
    " - From above, the precision values of the decisison tree are higher than those for logistic regression which show how accurate the decisison tree model will perform with any other foreign data.\n",
    " - Recall values are also high for this model which is the ability of the model to be able to find all positive instances. Positive instances are sum of True Negative and False Negative values."
   ]
  },
  {
   "cell_type": "markdown",
   "metadata": {},
   "source": [
    "## Misclassification for both Logistic Regression and Decision Tree\n",
    " - In the processing of training and testing a model, misclassifications will always occur which is the case where data points belonging to a different class are classified under a differrent one. This could better be seen as the sum of False positive and False negative from the confussion matrix of the model.\n",
    " - To better visualize this, a histogram is used to visualize the total counts of predictions made under each class against the test values.\n",
    " - With this visualization, the model could better be seen if it is a good fit which has lower misclassified values or worth looking for an alternative as the misclaasification values are really many thereby reducing model accuracy."
   ]
  },
  {
   "cell_type": "markdown",
   "metadata": {},
   "source": [
    "### Misclassification gragh for Logistic regression with regularization."
   ]
  },
  {
   "cell_type": "code",
   "execution_count": 38,
   "metadata": {},
   "outputs": [
    {
     "data": {
      "image/png": "[encoded data removed]",
      "text/plain": [
       "<Figure size 576x432 with 1 Axes>"
      ]
     },
     "metadata": {
      "needs_background": "light"
     },
     "output_type": "display_data"
    }
   ],
   "source": [
    "'''\n",
    "Since ytest and y_pred_test2 have data types of numpy arrays, they have to be converted to series which is a\n",
    "one dimentional array which can hold data type of any form.\n",
    "After which the two series can then be concatenated to form a single dataframe which is a two dimentional size and mutable structure.\n",
    "'''\n",
    "\n",
    "# first convert the predicted values to a series and then to a pandas dataframe.\n",
    "predictions = pd.Series(y_pred_test2)\n",
    "predictions = pd.DataFrame({'Pred defaults':predictions.values})\n",
    "\n",
    "actual_values = pd.Series(ytest)\n",
    "actual_values = pd.DataFrame({'Actual values':actual_values.values})\n",
    "\n",
    "#join both dataframes using the inner join command which returns all rows for both data frames\n",
    "final = predictions.join(actual_values)\n",
    "\n",
    "# Visualization of the data using a histogram\n",
    "bin=3\n",
    "plt.hist(final['Actual values'], alpha=0.9, bins=bin, label='Actuals')\n",
    "plt.hist(final['Pred defaults'], alpha=0.5, bins=bin, label='Predictions')\n",
    "\n",
    "plt.legend(loc='upper right')\n",
    "plt.show()\n"
   ]
  },
  {
   "cell_type": "markdown",
   "metadata": {},
   "source": [
    "### Observations from the visualization above.\n",
    "- Misclassifcation are data points that after esting the model, they classified some of the data points in a class which it doesn't belong to. This misclassification is also seen from the confussion matrix when as the sum of False positive and False negative values.\n",
    "- This histogram above shows the differences in the total counts of each class under the features Pred defaults(predicted defaults values from the model) and Actual values(Initial values which were reserved as the test set)\n",
    "- The model therefore predicted more cards were not defaulted compared to the test data. \n",
    "- Instead fewer defaulted accounts were predicted whereas the test set defined more accounts were defaulted.\n",
    "- From this analysis, model performance is better understood if the values for misclassification are too high, this will result in lower accuracy score for the model thus won't be the best fit for the data."
   ]
  },
  {
   "cell_type": "markdown",
   "metadata": {},
   "source": [
    "### Misclassifications for Decision tree model"
   ]
  },
  {
   "cell_type": "code",
   "execution_count": 39,
   "metadata": {},
   "outputs": [
    {
     "data": {
      "image/png": "[encoded data removed]",
      "text/plain": [
       "<Figure size 576x432 with 1 Axes>"
      ]
     },
     "metadata": {
      "needs_background": "light"
     },
     "output_type": "display_data"
    }
   ],
   "source": [
    "# Predictions made using Xtest will be merged with the test set and then visualized\n",
    "# ypred_dt2\n",
    "\n",
    "predictions = pd.Series(ypred_dt2)\n",
    "predictions = pd.DataFrame({'Pred defaults':predictions.values})\n",
    "\n",
    "final = predictions.join(actual_values)\n",
    "\n",
    "# Visualization of the data using a histogram\n",
    "bin=3\n",
    "plt.hist(final['Actual values'], alpha=0.9, bins=bin, label='Actuals')\n",
    "plt.hist(final['Pred defaults'], alpha=0.5, bins=bin, label='Predictions')\n",
    "\n",
    "plt.legend(loc='upper right')\n",
    "plt.show()"
   ]
  },
  {
   "cell_type": "markdown",
   "metadata": {},
   "source": [
    "### Observations from above visualization\n",
    "- The number of misclassified data points is reduced unlike for Logistic regression above.\n",
    "- This shows Decision tree model has better performance than Logistic since fewer misclassification data points leads to higher model accuracy score."
   ]
  },
  {
   "cell_type": "code",
   "execution_count": null,
   "metadata": {},
   "outputs": [],
   "source": []
  }
 ],
 "metadata": {
  "kernelspec": {
   "display_name": "Python 3",
   "language": "python",
   "name": "python3"
  },
  "language_info": {
   "codemirror_mode": {
    "name": "ipython",
    "version": 3
   },
   "file_extension": ".py",
   "mimetype": "text/x-python",
   "name": "python",
   "nbconvert_exporter": "python",
   "pygments_lexer": "ipython3",
   "version": "3.7.0"
  }
 },
 "nbformat": 4,
 "nbformat_minor": 4
}
