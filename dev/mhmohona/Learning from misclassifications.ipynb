{
 "cells": [
  {
   "cell_type": "markdown",
   "metadata": {
    "colab_type": "text",
    "id": "FvjETWutWdve"
   },
   "source": [
    "# Overview: \n",
    "\n",
    "This notebook is created to do tasks given in issue no #63: [Learning from misclassification](https://github.com/mozilla/PRESC/issues/63)\n",
    "\n",
    "\n",
    "## Task\n",
    "\n",
    "Develop a metric or visualization that \n",
    "- reveals something more about each misclassified point (beyond just the fact that it was misclassified) that can be used to improve the model.\n",
    "\n",
    "### Previous work:\n",
    "*While working on issue #2 I have showed visualization for decision tree and showed visualization and explained for its misclassification and #7 I have showed misclassification for datapoints  using support vector machine by varying its parameter C which is called the penalty parameter and for decision tree showed misclassification.*\n",
    "\n",
    "\n",
    "\n",
    "----\n",
    "\n"
   ]
  },
  {
   "cell_type": "code",
   "execution_count": 1,
   "metadata": {
    "colab": {},
    "colab_type": "code",
    "id": "MYxIEMxnWdvg"
   },
   "outputs": [],
   "source": [
    "# Import basic libraries\n",
    "import numpy as np # linear algebra\n",
    "import pandas as pd # data processing, CSV file I/O (e.g. pd.read_csv)\n",
    "import seaborn as sns\n",
    "import pandas_profiling\n",
    "\n",
    "# Import packages to visualize the classifer\n",
    "from matplotlib.colors import ListedColormap\n",
    "import matplotlib.pyplot as plt\n",
    "import warnings\n",
    "\n",
    "from sklearn.preprocessing import StandardScaler\n",
    "from sklearn import metrics\n",
    "from sklearn.metrics import accuracy_score, confusion_matrix, recall_score, precision_score, classification_report, balanced_accuracy_score\n",
    "from sklearn.model_selection import train_test_split, validation_curve\n",
    "\n",
    "# Import packages to do the classifying\n",
    "from sklearn.tree import DecisionTreeClassifier\n",
    "from sklearn.ensemble import AdaBoostClassifier  \n",
    "from sklearn.utils.multiclass import unique_labels"
   ]
  },
  {
   "cell_type": "code",
   "execution_count": 2,
   "metadata": {
    "colab": {},
    "colab_type": "code",
    "id": "NcycNUH7Wdvo"
   },
   "outputs": [],
   "source": [
    "df = pd.read_csv(\"../../datasets/defaults.csv\")"
   ]
  },
  {
   "cell_type": "code",
   "execution_count": 3,
   "metadata": {
    "colab": {},
    "colab_type": "code",
    "id": "5eosRuBHWdxg"
   },
   "outputs": [],
   "source": [
    "df = df.rename(columns={'defaulted': 'def_pay','pay_0': 'pay_1'})"
   ]
  },
  {
   "cell_type": "code",
   "execution_count": 4,
   "metadata": {
    "colab": {},
    "colab_type": "code",
    "id": "62vI9VYXWdxl"
   },
   "outputs": [],
   "source": [
    "target = df['def_pay'].copy()"
   ]
  },
  {
   "cell_type": "code",
   "execution_count": 5,
   "metadata": {
    "colab": {},
    "colab_type": "code",
    "id": "hn0C9A9xWdxr",
    "outputId": "d1236336-7286-4d55-ac3c-091d10e1546f"
   },
   "outputs": [
    {
     "data": {
      "text/plain": [
       "Index(['limit_bal', 'sex', 'education', 'marriage', 'age', 'pay_1', 'pay_2',\n",
       "       'pay_3', 'pay_4', 'pay_5', 'pay_6', 'bill_amt1', 'bill_amt2',\n",
       "       'bill_amt3', 'bill_amt4', 'bill_amt5', 'bill_amt6', 'pay_amt1',\n",
       "       'pay_amt2', 'pay_amt3', 'pay_amt4', 'pay_amt5', 'pay_amt6'],\n",
       "      dtype='object')"
      ]
     },
     "execution_count": 5,
     "metadata": {},
     "output_type": "execute_result"
    }
   ],
   "source": [
    "# creating the features, which now will be everything in the original df\n",
    "features = ['limit_bal', 'sex', 'education', 'marriage', 'age', 'pay_1', 'pay_2',\n",
    "       'pay_3', 'pay_4', 'pay_5', 'pay_6', 'bill_amt1', 'bill_amt2',\n",
    "       'bill_amt3', 'bill_amt4', 'bill_amt5', 'bill_amt6', 'pay_amt1',\n",
    "       'pay_amt2', 'pay_amt3', 'pay_amt4', 'pay_amt5', 'pay_amt6']\n",
    "#X = df[features].copy()\n",
    "#features.columns\n",
    "features = df[features].copy()\n",
    "features.columns"
   ]
  },
  {
   "cell_type": "markdown",
   "metadata": {
    "colab_type": "text",
    "id": "J7F5dg8gWdxw"
   },
   "source": [
    "# Decision tree"
   ]
  },
  {
   "cell_type": "code",
   "execution_count": 6,
   "metadata": {
    "colab": {},
    "colab_type": "code",
    "id": "2gXENZZcWdxy"
   },
   "outputs": [],
   "source": [
    "X_train, X_test, y_train, y_test = train_test_split(features, target, test_size=0.20, random_state=42)"
   ]
  },
  {
   "cell_type": "code",
   "execution_count": 7,
   "metadata": {
    "colab": {},
    "colab_type": "code",
    "id": "W4-SerhcWdx3",
    "outputId": "47a358ea-474a-4bcc-aff3-57c0811ee5c1"
   },
   "outputs": [
    {
     "data": {
      "text/plain": [
       "0.812"
      ]
     },
     "execution_count": 7,
     "metadata": {},
     "output_type": "execute_result"
    }
   ],
   "source": [
    "#createing the classifier\n",
    "classifier = DecisionTreeClassifier(max_depth=10, random_state=14) \n",
    "# training the classifier\n",
    "classifier.fit(X_train, y_train)\n",
    "# doing predictions on the test\n",
    "predictions = classifier.predict(X_test)\n",
    "\n",
    "# see how good we did on the test\n",
    "accuracy_score(y_true = y_test, y_pred = predictions)"
   ]
  },
  {
   "cell_type": "markdown",
   "metadata": {
    "colab_type": "text",
    "id": "krF077nRWdx7"
   },
   "source": [
    "**Null accuracy:** accuracy that could be achieved by always predicting the most frequent class\n"
   ]
  },
  {
   "cell_type": "code",
   "execution_count": 8,
   "metadata": {
    "colab": {},
    "colab_type": "code",
    "id": "yvis4IouWdx8",
    "outputId": "2cc08eba-0a42-4e9d-961e-e8ce401cc866"
   },
   "outputs": [
    {
     "data": {
      "text/plain": [
       "0    4687\n",
       "1    1313\n",
       "Name: def_pay, dtype: int64"
      ]
     },
     "execution_count": 8,
     "metadata": {},
     "output_type": "execute_result"
    }
   ],
   "source": [
    "# examine the class distribution of the testing set (using a Pandas Series method)\n",
    "y_test.value_counts()"
   ]
  },
  {
   "cell_type": "code",
   "execution_count": 9,
   "metadata": {
    "colab": {},
    "colab_type": "code",
    "id": "BjTOG8XAWdyA",
    "outputId": "c72aa98f-3ec7-4ef2-d7c8-f4a1afdea2be"
   },
   "outputs": [
    {
     "data": {
      "text/plain": [
       "0.21883333333333332"
      ]
     },
     "execution_count": 9,
     "metadata": {},
     "output_type": "execute_result"
    }
   ],
   "source": [
    "# calculate the percentage of ones\n",
    "# because y_test only contains ones and zeros, we can simply calculate the mean = percentage of ones\n",
    "y_test.mean()"
   ]
  },
  {
   "cell_type": "code",
   "execution_count": 10,
   "metadata": {
    "colab": {},
    "colab_type": "code",
    "id": "EGQ0ckGuWdyF",
    "outputId": "f6b253cc-3d43-47ff-95c1-2d59d19079a5"
   },
   "outputs": [
    {
     "data": {
      "text/plain": [
       "0.7811666666666667"
      ]
     },
     "execution_count": 10,
     "metadata": {},
     "output_type": "execute_result"
    }
   ],
   "source": [
    "# calculate the percentage of zeros\n",
    "1 - y_test.mean()"
   ]
  },
  {
   "cell_type": "markdown",
   "metadata": {
    "colab_type": "text",
    "id": "gMO6mhDfWdyL"
   },
   "source": [
    "This means that a dumb model that always predicts 0 would be right 78% of the time\n",
    "\n",
    "- This shows how classification accuracy is not that good as it's close to a dumb model\n",
    "- It's a good way to know the minimum we should achieve with our models"
   ]
  },
  {
   "cell_type": "code",
   "execution_count": 11,
   "metadata": {
    "colab": {},
    "colab_type": "code",
    "id": "usveMwkwWdyM",
    "outputId": "fec2a172-f156-48b1-f951-550fb1cfa040"
   },
   "outputs": [
    {
     "data": {
      "text/plain": [
       "0    0.781167\n",
       "Name: def_pay, dtype: float64"
      ]
     },
     "execution_count": 11,
     "metadata": {},
     "output_type": "execute_result"
    }
   ],
   "source": [
    "# calculate null accuracy (for multi-class classification problems)\n",
    "y_test.value_counts().head(1) / len(y_test)"
   ]
  },
  {
   "cell_type": "markdown",
   "metadata": {
    "colab_type": "text",
    "id": "lmY6PLG6WdyR"
   },
   "source": [
    "Comparing the *true* and *predicted* response values"
   ]
  },
  {
   "cell_type": "code",
   "execution_count": 12,
   "metadata": {
    "colab": {},
    "colab_type": "code",
    "id": "797HL5shWdyR",
    "outputId": "6e997739-cd26-429c-928b-9b3bdb380513"
   },
   "outputs": [
    {
     "name": "stdout",
     "output_type": "stream",
     "text": [
      "True: [0 0 0 0 1 0 1 0 0 0 0 0 0 1 0 0 0 0 0 1 0 1 0 0 0]\n",
      "False: [0 0 0 0 0 0 0 0 0 0 1 0 0 1 0 0 0 0 0 1 0 0 0 0 0]\n"
     ]
    }
   ],
   "source": [
    "# print the first 25 true and predicted responses\n",
    "print('True:', y_test.values[0:25])\n",
    "print('False:', predictions[0:25])"
   ]
  },
  {
   "cell_type": "markdown",
   "metadata": {
    "colab_type": "text",
    "id": "ONqJ6O3bWdyU"
   },
   "source": [
    "This digits of accuracy do not give the correct result. Thats why we plot confusion matrix for seeing misclassification. Here I am adding misclassification to check the misclassified values.\n",
    "\n",
    "\n",
    "## Confusion matrix: \n",
    "\n",
    "\n",
    "Confusion matrix, a table that describes the performance of a classification model. Confusion Matrix tells us how many our model predicted correctly and incorrectly in terms of binary/multiple outcome classes by comparing actual and predicted cases. We have fit the model using X_train and y_train and predicted the outcome of X_test in the variable y_pred. So, now we will use a confusion matrix to compare between y_test and y_pred. Let's do the confusion matrix.\n",
    "\n",
    "\n"
   ]
  },
  {
   "cell_type": "code",
   "execution_count": 13,
   "metadata": {},
   "outputs": [
    {
     "name": "stdout",
     "output_type": "stream",
     "text": [
      "[[4411  276]\n",
      " [ 852  461]]\n"
     ]
    }
   ],
   "source": [
    "# save confusion matrix and slice into four pieces\n",
    "confusion = metrics.confusion_matrix(y_test, predictions)\n",
    "print(confusion)\n",
    "#[row, column]\n",
    "TP = confusion[1, 1]\n",
    "TN = confusion[0, 0]\n",
    "FP = confusion[0, 1]\n",
    "FN = confusion[1, 0]"
   ]
  },
  {
   "cell_type": "code",
   "execution_count": 14,
   "metadata": {
    "colab": {},
    "colab_type": "code",
    "id": "8EeO9okwWdyV",
    "outputId": "977361f6-36db-441f-fb8b-514fa77388a7"
   },
   "outputs": [
    {
     "data": {
      "image/png": "[encoded data removed]",
      "text/plain": [
       "<Figure size 432x288 with 2 Axes>"
      ]
     },
     "metadata": {
      "needs_background": "light"
     },
     "output_type": "display_data"
    }
   ],
   "source": [
    "ConfMatrix = confusion_matrix(y_test,classifier.predict(X_test))\n",
    "sns.heatmap(ConfMatrix,annot=True, cmap=\"Blues\", fmt=\"d\", \n",
    "            xticklabels = ['Non-default', 'Default'], \n",
    "            yticklabels = ['Non-default', 'Default'])\n",
    "plt.ylabel('True label')\n",
    "plt.xlabel('Predicted label')\n",
    "plt.title(\"Confusion Matrix - Decision Tree\");"
   ]
  },
  {
   "cell_type": "markdown",
   "metadata": {
    "colab_type": "text",
    "id": "_iacMFw1WdyZ"
   },
   "source": [
    "A confusion matrix is showing the frequency of misclassification of our classifier.\n",
    "\n",
    "\n",
    "Our y_test has a total of 6000 data points; which we got by spliting our dataset in order to evaluate our model. Each number here represents certain details about our model. If we were to think about this in terms of column and raw, we could see that...\n",
    "\n",
    "- the first column is of data points that the machine predicted as non-default.\n",
    "- the second column is of the statistics that the model predicted as default.\n",
    "- In terms of raws, the first raw indexed as non-default means that the value in that raw are actual statistics of default value.\n",
    "\n",
    "Now we can see that the predicted non-default and predicted default sort of overlap with actual default and actual non-default. After all it is a matrix and we have some terminologies to call these statistics more specifically. Let's see what they are and determine the value of all these terminologies. \n",
    "\n",
    "- **True Positive(TP):** values that the model predicted as yes(default) and is actually yes(default).\n",
    "    - Here its value is 461\n",
    "- **True Negative(TN):** values that model predicted as no(non-default) and is actually no(non-default)\n",
    "    - Here its value is 4411\n",
    "- **False Positive(or Type I error):** values that model predicted as yes(default) but actually no(non-default)\n",
    "    - Here its value is 276\n",
    "- **False Negative(or Type II error):** values that model predicted as no(non-default) but actually yes(default)\n",
    "    - Here its value is 852\n",
    "\n",
    "\n",
    "From these four terminologies, we can compute many other rates that are used to evaluate a binary classifier.\n",
    "Accuracy:\n",
    "Accuracy is the measure of how often the model is correct.\n",
    "\n",
    "`(TP + TN)/total = (461+4411)/6000 = .812`\n",
    "\n",
    "I got the same value from scikit learn."
   ]
  },
  {
   "cell_type": "markdown",
   "metadata": {
    "colab_type": "text",
    "id": "eIcO2ksPWdya"
   },
   "source": [
    "## Misclassification Rate: \n",
    "\n",
    "**Misclassification Rate is the measure of how often the model is wrong**\n",
    "\n",
    "- Misclassification Rate and Accuracy are opposite of each other.\n",
    "- Misclassification is equivalent to 1 minus Accuracy.\n",
    "- Misclassification Rate is also known as \"Error Rate\".\n",
    "\n",
    "`(FP + FN)/Total = (276+852)/6000 = 0.188`\n",
    "\n"
   ]
  },
  {
   "cell_type": "code",
   "execution_count": 15,
   "metadata": {
    "colab": {},
    "colab_type": "code",
    "id": "D7tyWVyXWdyb",
    "outputId": "1a9b8297-ecce-4301-dca7-3d8574b2fcb4"
   },
   "outputs": [
    {
     "name": "stdout",
     "output_type": "stream",
     "text": [
      "0.188\n",
      "0.18799999999999994\n"
     ]
    }
   ],
   "source": [
    "classification_error = (FP + FN) / float(TP + TN + FP + FN)\n",
    "\n",
    "print(classification_error)\n",
    "print(1 - metrics.accuracy_score(y_test, predictions))"
   ]
  },
  {
   "cell_type": "markdown",
   "metadata": {
    "colab_type": "text",
    "id": "9ht1EfLmWdyf"
   },
   "source": [
    "**True Positive Rate/Recall/Sensitivity:** \n",
    "\n",
    "Sensitivity: When the actual value is positive, how often is the prediction correct?\n",
    "\n",
    "- Something we want to maximize\n",
    "- How \"sensitive\" is the classifier to detecting positive instances?\n",
    "- Also known as \"True Positive Rate\" or \"Recall\"\n",
    "\n",
    "`TP/(TP+FN) = 461/(461+852) = 0.351104`"
   ]
  },
  {
   "cell_type": "code",
   "execution_count": 16,
   "metadata": {
    "colab": {},
    "colab_type": "code",
    "id": "Nl6BIZATWdyg",
    "outputId": "10797770-2495-419e-a049-d84dcb48e732"
   },
   "outputs": [
    {
     "name": "stdout",
     "output_type": "stream",
     "text": [
      "0.3511043412033511\n",
      "0.3511043412033511\n"
     ]
    }
   ],
   "source": [
    "#recall_score(y_test, predictions)\n",
    "sensitivity = TP / float(FN + TP)\n",
    "\n",
    "print(sensitivity)\n",
    "print(metrics.recall_score(y_test, predictions))"
   ]
  },
  {
   "cell_type": "markdown",
   "metadata": {
    "colab_type": "text",
    "id": "Z3AisFiLWdym"
   },
   "source": [
    "**True Negative Rate/Specificity:** \n",
    "\n",
    "Specificity: When the actual value is negative, how often is the prediction correct?\n",
    "\n",
    "- Something we want to maximize\n",
    "- How \"specific\" (or \"selective\") is the classifier in predicting positive instances?\n",
    "- True Negative Rate is equivalent to 1 minus False Positive Rate.\n",
    "\n",
    "`TN/(TN+FP) = 4411/(4411+276) = 0.941113719`"
   ]
  },
  {
   "cell_type": "code",
   "execution_count": 17,
   "metadata": {
    "colab": {},
    "colab_type": "code",
    "id": "2MQVcngcWdyn",
    "outputId": "f2f0663d-8134-412a-df71-810608392ec8"
   },
   "outputs": [
    {
     "name": "stdout",
     "output_type": "stream",
     "text": [
      "0.9411137187966716\n"
     ]
    }
   ],
   "source": [
    "specificity = TN / (TN + FP)\n",
    "\n",
    "print(specificity)"
   ]
  },
  {
   "cell_type": "markdown",
   "metadata": {
    "colab_type": "text",
    "id": "j5g-waGAWdyr"
   },
   "source": [
    "Here we can see our classifier is \n",
    "- Highly specific\n",
    "- Not sensitive"
   ]
  },
  {
   "cell_type": "markdown",
   "metadata": {
    "colab_type": "text",
    "id": "kiLewXENWdys"
   },
   "source": [
    "**False Positive Rate:** \n",
    "\n",
    "When the actual value is negative, how often is the prediction incorrect?\n",
    "\n",
    "`FP/(FP+TN) = 276/(276+4411) = 0.0588862812`"
   ]
  },
  {
   "cell_type": "code",
   "execution_count": 18,
   "metadata": {
    "colab": {},
    "colab_type": "code",
    "id": "30g242ZTWdyt",
    "outputId": "fc55c3d3-7275-47e2-e3f4-d22810e29e5e"
   },
   "outputs": [
    {
     "name": "stdout",
     "output_type": "stream",
     "text": [
      "0.05888628120332835\n",
      "0.058886281203328394\n"
     ]
    }
   ],
   "source": [
    "false_positive_rate = FP / float(TN + FP)\n",
    "\n",
    "print(false_positive_rate)\n",
    "print(1 - specificity)"
   ]
  },
  {
   "cell_type": "markdown",
   "metadata": {
    "colab_type": "text",
    "id": "0lmXL0RlWdyx"
   },
   "source": [
    "**Precision:** \n",
    "\n",
    "Precision: When a positive value is predicted, how often is the prediction correct?\n",
    "\n",
    "- How \"precise\" is the classifier when predicting positive instances?\n",
    "\n",
    "`TP/(TP+FP) = 461/(461+276) = 0.0.62550882`"
   ]
  },
  {
   "cell_type": "code",
   "execution_count": 19,
   "metadata": {
    "colab": {},
    "colab_type": "code",
    "id": "5-m0n586Wdyy"
   },
   "outputs": [
    {
     "name": "stdout",
     "output_type": "stream",
     "text": [
      "0.6255088195386703\n",
      "0.6255088195386703\n"
     ]
    }
   ],
   "source": [
    "precision = TP / float(TP + FP)\n",
    "\n",
    "print(precision)\n",
    "print(metrics.precision_score(y_test, predictions))"
   ]
  },
  {
   "cell_type": "code",
   "execution_count": 20,
   "metadata": {
    "colab": {},
    "colab_type": "code",
    "id": "_ePJSEw-Wdy2"
   },
   "outputs": [
    {
     "name": "stdout",
     "output_type": "stream",
     "text": [
      "              precision    recall  f1-score   support\n",
      "\n",
      "           0       0.84      0.94      0.89      4687\n",
      "           1       0.63      0.35      0.45      1313\n",
      "\n",
      "   micro avg       0.81      0.81      0.81      6000\n",
      "   macro avg       0.73      0.65      0.67      6000\n",
      "weighted avg       0.79      0.81      0.79      6000\n",
      "\n"
     ]
    }
   ],
   "source": [
    "print(classification_report(y_test, predictions))"
   ]
  },
  {
   "cell_type": "markdown",
   "metadata": {
    "colab_type": "text",
    "id": "0ZpgqpikWdy6"
   },
   "source": [
    "we have our confusion matrix. Now we will give it a little more character."
   ]
  },
  {
   "cell_type": "code",
   "execution_count": 21,
   "metadata": {
    "colab": {},
    "colab_type": "code",
    "id": "dx8w6xvrWdy7",
    "scrolled": true
   },
   "outputs": [
    {
     "name": "stdout",
     "output_type": "stream",
     "text": [
      "Confusion matrix, without normalization\n",
      "[[4411  276]\n",
      " [ 852  461]]\n",
      "Normalized confusion matrix\n",
      "[[0.94 0.06]\n",
      " [0.65 0.35]]\n"
     ]
    },
    {
     "data": {
      "image/png": "[encoded data removed]",
      "text/plain": [
       "<Figure size 432x288 with 2 Axes>"
      ]
     },
     "metadata": {
      "needs_background": "light"
     },
     "output_type": "display_data"
    },
    {
     "data": {
      "image/png": "[encoded data removed]",
      "text/plain": [
       "<Figure size 432x288 with 2 Axes>"
      ]
     },
     "metadata": {
      "needs_background": "light"
     },
     "output_type": "display_data"
    }
   ],
   "source": [
    "def plot_confusion_matrix(y_true, predictions, classes,\n",
    "                          normalize=False,\n",
    "                          title=None,\n",
    "                          cmap=plt.cm.Blues):\n",
    "    \"\"\"\n",
    "    This function prints and plots the confusion matrix.\n",
    "    Normalization can be applied by setting `normalize=True`.\n",
    "    \"\"\"\n",
    "    if not title:\n",
    "        if normalize:\n",
    "            title = 'Normalized confusion matrix'\n",
    "        else:\n",
    "            title = 'Confusion matrix, without normalization'\n",
    "\n",
    "    # Compute confusion matrix\n",
    "    cm = confusion_matrix(y_true, predictions)\n",
    "    # Only use the labels that appear in the data\n",
    "    classes = classes[unique_labels(y_true, predictions)]\n",
    "    if normalize:\n",
    "        cm = cm.astype('float') / cm.sum(axis=1)[:, np.newaxis]\n",
    "        print(\"Normalized confusion matrix\")\n",
    "    else:\n",
    "        print('Confusion matrix, without normalization')\n",
    "\n",
    "    print(cm)\n",
    "\n",
    "    fig, ax = plt.subplots()\n",
    "    im = ax.imshow(cm, interpolation='nearest', cmap=cmap)\n",
    "    ax.figure.colorbar(im, ax=ax)\n",
    "    # We want to show all ticks...\n",
    "    ax.set(xticks=np.arange(cm.shape[1]),\n",
    "           yticks=np.arange(cm.shape[0]),\n",
    "           # ... and label them with the respective list entries\n",
    "           xticklabels=classes, yticklabels=classes,\n",
    "           title=title,\n",
    "           ylabel='True label',\n",
    "           xlabel='Predicted label')\n",
    "\n",
    "    # Rotate the tick labels and set their alignment.\n",
    "    plt.setp(ax.get_xticklabels(), rotation=45, ha=\"right\",\n",
    "             rotation_mode=\"anchor\")\n",
    "\n",
    "    # Loop over data dimensions and create text annotations.\n",
    "    fmt = '.2f' if normalize else 'd'\n",
    "    thresh = cm.max() / 2.\n",
    "    for i in range(cm.shape[0]):\n",
    "        for j in range(cm.shape[1]):\n",
    "            ax.text(j, i, format(cm[i, j], fmt),\n",
    "                    ha=\"center\", va=\"center\",\n",
    "                    color=\"white\" if cm[i, j] > thresh else \"black\")\n",
    "    fig.tight_layout()\n",
    "    return ax\n",
    "\n",
    "\n",
    "np.set_printoptions(precision=2)\n",
    "\n",
    "class_names = np.array(['non-default','default'])\n",
    "\n",
    "# Plot non-normalized confusion matrix\n",
    "plot_confusion_matrix(y_test, predictions, classes=class_names,\n",
    "                      title='Confusion matrix, without normalization')\n",
    "\n",
    "# Plot normalized confusion matrix\n",
    "plot_confusion_matrix(y_test, predictions, classes=class_names, normalize=True,\n",
    "                      title='Normalized confusion matrix')\n",
    "\n",
    "plt.show()"
   ]
  },
  {
   "cell_type": "markdown",
   "metadata": {
    "colab_type": "text",
    "id": "B7FUtgcZWdy_"
   },
   "source": [
    "# Validation Curve\n",
    "Here I will use AdaBoostClassifier.  \n",
    "\n",
    "\n",
    "\n",
    "\n",
    "# Ensemble Machine Learning\n",
    "\n",
    "An ensemble model is a composite model which combines a series of low performing or weak classifiers with the aim of creating a strong classifier. Here, individual classifiers vote and final prediction label returned that performs majority voting. These individual classifiers are combined according to some specific criterion to create an ensemble model. Thats why these ensemble models offer greater accuracy than individual or base classifiers.\n",
    "\n",
    "Ensemble models are created according to some specific criterion as stated below:-\n",
    "\n",
    "- **Bagging** - They can be created to decrease model variance using bagging approach.\n",
    "\n",
    "- **Boosting** - They can be created to decrease model bias using a boosting approach.\n",
    "\n",
    "- **Stacking** - They can be created to improve model predictions using stacking approach.\n",
    "\n",
    "\n",
    "![image_1_joyt3x](https://user-images.githubusercontent.com/14244685/79098281-79732b00-7d83-11ea-911a-22058b24f99e.png)\n",
    "\n",
    "\n",
    "\n",
    "# AdaBoost (Adaptive Boosting)\n",
    "\n",
    "AdaBoostClassifier stands for Adaptive Boosting Classifier.\n",
    "\n",
    "Ada Boost is the first original boosting technique which creates a highly accurate prediction rule by combining many weak and inaccurate rules. It is a boosting ensemble model and works especially well with the decision tree. Boosting model's key is learning from the previous mistakes, e.g. misclassification data points.\n",
    "\n",
    "**AdaBoost learns from the mistakes by increasing the weight of misclassified data points.**\n",
    "\n",
    "\n",
    "\n",
    "\n",
    "**Step 1:** *Initialize the weights* of data points. if the training set has 100 data points, then each point's initial weight should be 1/100 = 0.01.\n",
    "\n",
    "**Step 2:** *Train* a decision tree\n",
    "\n",
    "**Step 3:** *Calculate the weighted error rate (e)* of the decision tree. *The weighted error rate (e)* is just how many wrong predictions out of total and you treat the wrong predictions differently based on its data point's weight. *The higher the weight*, the more the corresponding error will be weighted during the calculation of the (e).\n",
    "\n",
    "**Step 4:** *Calculate this decision tree's weight* in the ensemble\n",
    "\n",
    "`the weight of this tree = learning rate * log( (1 - e) / e)`\n",
    "\n",
    "- the higher weighted error rate of a tree, the less decision power the tree will be given during the later voting\n",
    "- the lower weighted error rate of a tree, the higher decision power the tree will be given during the later voting\n",
    "\n",
    "**Step 5:** *Update weights* of wrongly classified points\n",
    "\n",
    "the weight of each data point =\n",
    "- if the model got this data point correct, the weight stays the same\n",
    "- if the model got this data point wrong, the new weight of this point = old weight * np.exp(weight of this tree)\n",
    "\n",
    "Note: The higher the weight of the tree (more accurate this tree performs), the more boost (importance) the misclassified data point by this tree will get. The weights of the data points are normalized after all the misclassified points are updated.\n",
    "\n",
    "**Step 6:** *Repeat* Step 1(until the number of trees we set to train is reached)\n",
    "\n",
    "**Step 7:** *Make the final prediction*\n",
    "\n",
    "The AdaBoost makes a new prediction by adding up the weight (of each tree) multiply the prediction (of each tree). The tree with higher weight will have more power of influence the final decision.\n",
    "\n",
    "\n",
    "\n",
    "For a learned classifier to make strong predictions it should follow the following three conditions:\n",
    "\n",
    "- The rules should be simple\n",
    "- Classifier should have been trained on sufficient number of training examples\n",
    "- The Classifier should have low training error for the training instances\n",
    "\n",
    "\n",
    "Each of the weak hypothesis has an accuracy slightly better than random guessing i.e. Error Term € (t) should be slightly more than ½-β where β >0. This is the fundamental assumption of this boosting algorithm which can produce a final hypothesis with a small error\n",
    "\n",
    "After each round, it gives more focus to examples that are harder to classify.  The quantity of focus is measured by a weight, which initially is equal for all instances. After each iteration, the weights of misclassified instances are increased and the weights of correctly classified instances are decreased.\n",
    "\n",
    "\n",
    "### Advantages\n",
    "- Very Simple to implement\n",
    "- Good generalization- suited for any kind of classification problem ü Not prone to overfitting\n",
    "- It iteratively corrects the mistakes of the weak classifier and improves accuracy by combining weak learners.\n",
    "- We can use many base classifiers with AdaBoost.\n",
    "\n",
    "\n",
    "### Disadvantages\n",
    "- Sensitive to noisy data and outliers\n",
    "- It is highly affected by outliers because it tries to fit each point perfectly.\n",
    "- AdaBoost is slower compared to XGBoost.\n"
   ]
  },
  {
   "cell_type": "code",
   "execution_count": 22,
   "metadata": {
    "colab": {},
    "colab_type": "code",
    "id": "SWm4mWMgWdy_"
   },
   "outputs": [],
   "source": [
    "min_train = X_train.min()\n",
    "range_train = (X_train - min_train).max()\n",
    "X_train_scaled = (X_train - min_train)/range_train"
   ]
  },
  {
   "cell_type": "code",
   "execution_count": 23,
   "metadata": {
    "colab": {},
    "colab_type": "code",
    "id": "OCmlbsQ_Wdzc"
   },
   "outputs": [
    {
     "data": {
      "image/png": "[encoded data removed]",
      "text/plain": [
       "<Figure size 432x288 with 1 Axes>"
      ]
     },
     "metadata": {
      "needs_background": "light"
     },
     "output_type": "display_data"
    }
   ],
   "source": [
    "# Create range of values for parameter\n",
    "param_range = np.arange(1, 250, 2)\n",
    "# Calculate accuracy on training and test set using range of parameter values\n",
    "train_scores, test_scores = validation_curve(AdaBoostClassifier(), \n",
    "                                             X_train_scaled, \n",
    "                                             y_train, \n",
    "                                             param_name=\"n_estimators\", \n",
    "                                             param_range=param_range,\n",
    "                                             cv=3, \n",
    "                                             scoring=\"accuracy\", \n",
    "                                             n_jobs=-1)\n",
    "\n",
    "# Calculate mean and standard deviation for training set scores\n",
    "train_mean = np.mean(train_scores, axis=1)\n",
    "train_std = np.std(train_scores, axis=1)\n",
    "\n",
    "# Calculate mean and standard deviation for test set scores\n",
    "test_mean = np.mean(test_scores, axis=1)\n",
    "test_std = np.std(test_scores, axis=1)\n",
    "\n",
    "# Plot mean accuracy scores for training and test sets\n",
    "plt.plot(param_range, train_mean, label=\"Training score\", color=\"black\")\n",
    "plt.plot(param_range, test_mean, label=\"Cross-validation score\", color=\"dimgrey\")\n",
    "\n",
    "# Plot accurancy bands for training and test sets\n",
    "plt.fill_between(param_range, train_mean - train_std, train_mean + train_std, color=\"gray\")\n",
    "plt.fill_between(param_range, test_mean - test_std, test_mean + test_std, color=\"gainsboro\")\n",
    "\n",
    "# Create plot\n",
    "plt.title(\"Validation Curve With ADABOOST\")\n",
    "plt.xlabel(\"Number Of Trees\")\n",
    "plt.ylabel(\"Accuracy Score\")\n",
    "plt.tight_layout()\n",
    "plt.legend(loc=\"best\")\n",
    "plt.show()"
   ]
  },
  {
   "cell_type": "markdown",
   "metadata": {
    "colab_type": "text",
    "id": "xWi5nVxkWdzo"
   },
   "source": [
    "**Interpretation of the Validation Curve**\n",
    "\n",
    "if the number of trees are around 10, then the model suffers from high bias. Two scores are quite close,but both the scores are too far from acceptable level so I think it's a high bias problem.In other words, the model is underfitting.\n",
    "\n",
    "At a maximun number of trees of 250, model suffers from high variance since training score is 0.82 but validation score is about 0.81.In other words, a model is overfitting. Again, the data points suggest a sort of graceful curve. However, our model uses a very complex curve to get as close to every data point as possible. Consequently, a model with high variance has very low bias because it makes little to no assumption about the data. In fact, it adapts too much to the data.\n",
    "\n",
    "As we see from the curve, max trees of around 30 to 40 best generalizes the unseen data. As max trees increases, bias becomes lower and variance becomes higher. We should keep the balance between the two. Just after 30 to 40 number of trees training score increase upwards and validation score starts to goes down, so I it begins to suffer from overfitting. So that's why any number of trees between 30 and 40 should be a good choice."
   ]
  }
 ],
 "metadata": {
  "colab": {
   "collapsed_sections": [],
   "name": "Learning from misclassifications.ipynb",
   "provenance": []
  },
  "kernelspec": {
   "display_name": "Python 3",
   "language": "python",
   "name": "python3"
  },
  "language_info": {
   "codemirror_mode": {
    "name": "ipython",
    "version": 3
   },
   "file_extension": ".py",
   "mimetype": "text/x-python",
   "name": "python",
   "nbconvert_exporter": "python",
   "pygments_lexer": "ipython3",
   "version": "3.7.3"
  }
 },
 "nbformat": 4,
 "nbformat_minor": 1
}
