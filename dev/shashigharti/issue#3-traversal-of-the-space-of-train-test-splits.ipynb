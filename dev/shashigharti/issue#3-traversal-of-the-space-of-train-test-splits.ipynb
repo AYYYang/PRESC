{
 "cells": [
  {
   "cell_type": "markdown",
   "metadata": {
    "pycharm": {
     "name": "#%% md\n"
    }
   },
   "source": [
    "**Introduction**\n",
    "\n",
    "Traversal of the space of train/test splits #3\n",
    "\n",
    "\n",
    "**References:**\n",
    "1. https://scikit-learn.org"
   ]
  },
  {
   "cell_type": "code",
   "execution_count": 1,
   "metadata": {},
   "outputs": [],
   "source": [
    "import numpy as np\n",
    "import pandas as pd\n",
    "from matplotlib import pyplot as plt \n",
    "import seaborn as sns\n",
    "pd.set_option(\"display.precision\", 2) "
   ]
  },
  {
   "cell_type": "code",
   "execution_count": 2,
   "metadata": {},
   "outputs": [],
   "source": [
    "df = pd.read_csv(\"../../datasets/vehicles.csv\")"
   ]
  },
  {
   "cell_type": "code",
   "execution_count": 3,
   "metadata": {
    "pycharm": {
     "name": "#%%\n"
    }
   },
   "outputs": [],
   "source": [
    "feature_cols = ['COMPACTNESS', 'CIRCULARITY', 'DISTANCE_CIRCULARITY', 'RADIUS_RATIO',\n",
    "       'PR.AXIS_ASPECT_RATIO', 'MAX.LENGTH_ASPECT_RATIO', 'SCATTER_RATIO',\n",
    "       'ELONGATEDNESS', 'PR.AXIS_RECTANGULARITY', 'MAX.LENGTH_RECTANGULARITY',\n",
    "       'SCALED_VARIANCE_MAJOR', 'SCALED_VARIANCE_MINOR',\n",
    "       'SCALED_RADIUS_OF_GYRATION', 'SKEWNESS_ABOUT_MAJOR',\n",
    "       'SKEWNESS_ABOUT_MINOR', 'KURTOSIS_ABOUT_MAJOR']\n",
    "label_col = ['Class']"
   ]
  },
  {
   "cell_type": "markdown",
   "metadata": {
    "pycharm": {
     "name": "#%% md\n"
    }
   },
   "source": [
    "**Removing Outlier Rows**\n",
    "\n",
    "Based on the above graph, we have the max values for each feature that have outliers. We will remove all the rows that have outliers because outliers in data can result in inaccurate models.\n",
    "\n",
    "There are 51 rows with outliers out of 846 rows."
   ]
  },
  {
   "cell_type": "code",
   "execution_count": 4,
   "metadata": {},
   "outputs": [
    {
     "name": "stdout",
     "output_type": "stream",
     "text": [
      "846\n",
      "Total Outliers  51\n"
     ]
    }
   ],
   "source": [
    "# Max value based on boxplot to filter outliers of 8 columns where outliers are identified. \n",
    "df_columns_with_outliers = pd.DataFrame([[255, 77, 13, 288, 980, 88, 19, 40]], columns=['RADIUS_RATIO', \n",
    "                                                                                'PR.AXIS_ASPECT_RATIO', \n",
    "                                                                                'MAX.LENGTH_ASPECT_RATIO', \n",
    "                                                                                'SCALED_VARIANCE_MAJOR', \n",
    "                                                                                'SCALED_VARIANCE_MINOR', \n",
    "                                                                                'SKEWNESS_ABOUT_MAJOR', \n",
    "                                                                                'SKEWNESS_ABOUT_MINOR', \n",
    "                                                                                'KURTOSIS_ABOUT_MAJOR'])\n",
    "\n",
    "total_outliers = 0\n",
    "for i, column in enumerate(df_columns_with_outliers.columns):\n",
    "    total_outliers += df[column][df[column] > df_columns_with_outliers[column][0]].size\n",
    "print(len(df.index))\n",
    "print('Total Outliers ', total_outliers)"
   ]
  },
  {
   "cell_type": "code",
   "execution_count": 5,
   "metadata": {},
   "outputs": [],
   "source": [
    "df_new = df.copy();\n",
    "\n",
    "# Fill null\n",
    "df_new.fillna(df_new.mean(), inplace=True)\n",
    "\n",
    "# Remove outliers based on max value identified earlier from boxplot\n",
    "for i, column in enumerate(df_columns_with_outliers.columns):\n",
    "    df_new = df_new[df_new[column] < df_columns_with_outliers[column][0]]\n",
    " \n",
    "df_new['Class'] = pd.Categorical(df_new['Class']).codes\n",
    "\n",
    "# rest the index post cleaning the outliers\n",
    "df_new = df_new.reset_index(drop=True)"
   ]
  },
  {
   "cell_type": "code",
   "execution_count": 6,
   "metadata": {},
   "outputs": [],
   "source": [
    "from sklearn.svm import SVC # SVM Classifier\n",
    "from sklearn.model_selection import train_test_split\n",
    "from sklearn import metrics #Import scikit-learn metrics module for accuracy calculation\n",
    "from sklearn.metrics import classification_report, confusion_matrix\n",
    "from sklearn.model_selection import GridSearchCV \n",
    "\n",
    "def train_svm_with_hyperparameter_tuning(X, y, param_grid, ratio = 0.3):\n",
    "    \"\"\" This function takes train data, labels as input and trains the SVM model.\n",
    "    The function uses GridSearchCV for hyperparameter tuning for SVM\n",
    "    \n",
    "    Args:\n",
    "        X: Training Data(features columns).\n",
    "        y: Labels for each row\n",
    "        param_grid (json): params for GridSearchCV (c, gamma, kernel)\n",
    "        ratio: (optional) Split ratio for train and test data\n",
    "    Returns:\n",
    "        tuple: y_test, y_pred values\n",
    "    \"\"\"\n",
    "    \n",
    "    ## Split the train and test data\n",
    "    X_train, X_test, y_train, y_test = train_test_split(X, y, test_size = ratio, random_state = 1)\n",
    "\n",
    "    svm_grid = GridSearchCV(SVC(), param_grid, refit = True, verbose = 3) \n",
    "    svm_grid.fit(X_train, y_train) \n",
    "    y_pred = svm_grid.predict(X_test) \n",
    "    \n",
    "    return y_test, y_pred   "
   ]
  },
  {
   "cell_type": "code",
   "execution_count": 20,
   "metadata": {},
   "outputs": [
    {
     "name": "stdout",
     "output_type": "stream",
     "text": [
      "0.9 0.1\n",
      "0.8 0.2\n",
      "0.7 0.3\n",
      "0.6 0.4\n",
      "0.5 0.5\n",
      "0.4 0.6\n",
      "0.3 0.7\n",
      "0.2 0.8\n",
      "0.1 0.9\n"
     ]
    }
   ],
   "source": [
    "from sklearn.preprocessing import MinMaxScaler\n",
    "from sklearn import metrics\n",
    "    \n",
    "\n",
    "X_new = df_new[feature_cols]\n",
    "y_new = df_new[label_col]\n",
    "scaler_sc = MinMaxScaler()\n",
    "scaler_sc.fit(X_new)\n",
    "X_new = scaler_sc.transform(X_new)\n",
    "\n",
    "# Parameter range \n",
    "param_grid = {'C': [0.1, 1, 10, 100, 1000],  \n",
    "              'gamma': [1, 0.1, 0.01, 0.001, 0.0001], \n",
    "              'kernel': ['rbf']}  \n",
    "result_lst = list()\n",
    "\n",
    "for i in range(10, 100, 10):\n",
    "    test_size = round(i/100 , 2)\n",
    "    train_size = round(1 - test_size, 2)\n",
    "    print(train_size, test_size)\n",
    "    #y_test, y_pred = train_svm_with_hyperparameter_tuning(X_new, y_new.values.ravel(), param_grid, i/100)\n",
    "    #result_lst.append([train_size, test_size, metrics.accuracy_score(y_test, y_pred), metrics.f1_score(y_test, y_pred, average='weighted')])\n"
   ]
  },
  {
   "cell_type": "code",
   "execution_count": 16,
   "metadata": {
    "pycharm": {
     "name": "#%%\n"
    }
   },
   "outputs": [],
   "source": [
    "result_df = pd.DataFrame(result_lst, columns = ['Ratio(Test Data)', 'Ratio(Train Data)', 'Accuracy', 'F1-Score']) "
   ]
  },
  {
   "cell_type": "code",
   "execution_count": 17,
   "metadata": {},
   "outputs": [
    {
     "data": {
      "text/html": [
       "<div>\n",
       "<style scoped>\n",
       "    .dataframe tbody tr th:only-of-type {\n",
       "        vertical-align: middle;\n",
       "    }\n",
       "\n",
       "    .dataframe tbody tr th {\n",
       "        vertical-align: top;\n",
       "    }\n",
       "\n",
       "    .dataframe thead th {\n",
       "        text-align: right;\n",
       "    }\n",
       "</style>\n",
       "<table border=\"1\" class=\"dataframe\">\n",
       "  <thead>\n",
       "    <tr style=\"text-align: right;\">\n",
       "      <th></th>\n",
       "      <th>Ratio(Test Data)</th>\n",
       "      <th>Ratio(Train Data)</th>\n",
       "      <th>Accuracy</th>\n",
       "      <th>F1-Score</th>\n",
       "    </tr>\n",
       "  </thead>\n",
       "  <tbody>\n",
       "    <tr>\n",
       "      <th>0</th>\n",
       "      <td>0.9</td>\n",
       "      <td>0.1</td>\n",
       "      <td>0.73</td>\n",
       "      <td>0.73</td>\n",
       "    </tr>\n",
       "    <tr>\n",
       "      <th>1</th>\n",
       "      <td>0.8</td>\n",
       "      <td>0.2</td>\n",
       "      <td>0.78</td>\n",
       "      <td>0.77</td>\n",
       "    </tr>\n",
       "    <tr>\n",
       "      <th>2</th>\n",
       "      <td>0.7</td>\n",
       "      <td>0.3</td>\n",
       "      <td>0.83</td>\n",
       "      <td>0.82</td>\n",
       "    </tr>\n",
       "    <tr>\n",
       "      <th>3</th>\n",
       "      <td>0.6</td>\n",
       "      <td>0.4</td>\n",
       "      <td>0.78</td>\n",
       "      <td>0.78</td>\n",
       "    </tr>\n",
       "    <tr>\n",
       "      <th>4</th>\n",
       "      <td>0.5</td>\n",
       "      <td>0.5</td>\n",
       "      <td>0.77</td>\n",
       "      <td>0.76</td>\n",
       "    </tr>\n",
       "    <tr>\n",
       "      <th>5</th>\n",
       "      <td>0.4</td>\n",
       "      <td>0.6</td>\n",
       "      <td>0.75</td>\n",
       "      <td>0.75</td>\n",
       "    </tr>\n",
       "    <tr>\n",
       "      <th>6</th>\n",
       "      <td>0.3</td>\n",
       "      <td>0.7</td>\n",
       "      <td>0.75</td>\n",
       "      <td>0.75</td>\n",
       "    </tr>\n",
       "    <tr>\n",
       "      <th>7</th>\n",
       "      <td>0.2</td>\n",
       "      <td>0.8</td>\n",
       "      <td>0.68</td>\n",
       "      <td>0.59</td>\n",
       "    </tr>\n",
       "    <tr>\n",
       "      <th>8</th>\n",
       "      <td>0.1</td>\n",
       "      <td>0.9</td>\n",
       "      <td>0.71</td>\n",
       "      <td>0.71</td>\n",
       "    </tr>\n",
       "  </tbody>\n",
       "</table>\n",
       "</div>"
      ],
      "text/plain": [
       "   Ratio(Test Data)  Ratio(Train Data)  Accuracy  F1-Score\n",
       "0               0.9                0.1      0.73      0.73\n",
       "1               0.8                0.2      0.78      0.77\n",
       "2               0.7                0.3      0.83      0.82\n",
       "3               0.6                0.4      0.78      0.78\n",
       "4               0.5                0.5      0.77      0.76\n",
       "5               0.4                0.6      0.75      0.75\n",
       "6               0.3                0.7      0.75      0.75\n",
       "7               0.2                0.8      0.68      0.59\n",
       "8               0.1                0.9      0.71      0.71"
      ]
     },
     "execution_count": 17,
     "metadata": {},
     "output_type": "execute_result"
    }
   ],
   "source": [
    "result_df"
   ]
  },
  {
   "cell_type": "code",
   "execution_count": 18,
   "metadata": {},
   "outputs": [
    {
     "data": {
      "text/plain": [
       "<matplotlib.axes._subplots.AxesSubplot at 0x7f0cdd9ccb90>"
      ]
     },
     "execution_count": 18,
     "metadata": {},
     "output_type": "execute_result"
    },
    {
     "data": {
      "image/png": "[encoded data removed]",
      "text/plain": [
       "<Figure size 432x288 with 1 Axes>"
      ]
     },
     "metadata": {
      "needs_background": "light"
     },
     "output_type": "display_data"
    }
   ],
   "source": [
    "sns.lineplot(data=result_df, x='Ratio(Train Data)',y='Accuracy')"
   ]
  },
  {
   "cell_type": "code",
   "execution_count": 19,
   "metadata": {},
   "outputs": [
    {
     "data": {
      "text/plain": [
       "<matplotlib.axes._subplots.AxesSubplot at 0x7f0cdd9d4290>"
      ]
     },
     "execution_count": 19,
     "metadata": {},
     "output_type": "execute_result"
    },
    {
     "data": {
      "image/png": "[encoded data removed]",
      "text/plain": [
       "<Figure size 432x288 with 1 Axes>"
      ]
     },
     "metadata": {
      "needs_background": "light"
     },
     "output_type": "display_data"
    }
   ],
   "source": [
    "sns.lineplot(data=result_df, x='Ratio(Test Data)',y='Accuracy')"
   ]
  }
 ],
 "metadata": {
  "kernelspec": {
   "display_name": "Python 3",
   "language": "python",
   "name": "python3"
  },
  "language_info": {
   "codemirror_mode": {
    "name": "ipython",
    "version": 3
   },
   "file_extension": ".py",
   "mimetype": "text/x-python",
   "name": "python",
   "nbconvert_exporter": "python",
   "pygments_lexer": "ipython3",
   "version": "3.7.6"
  },
  "pycharm": {
   "stem_cell": {
    "cell_type": "raw",
    "source": [],
    "metadata": {
     "collapsed": false
    }
   }
  }
 },
 "nbformat": 4,
 "nbformat_minor": 1
}